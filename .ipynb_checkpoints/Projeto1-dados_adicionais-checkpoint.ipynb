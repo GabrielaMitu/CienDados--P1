{
 "cells": [
  {
   "cell_type": "markdown",
   "metadata": {},
   "source": [
    "# Projeto 1 - Ciência de Dados"
   ]
  },
  {
   "cell_type": "markdown",
   "metadata": {},
   "source": [
    "**Aluna: Gabriela Yukari Mitu - Turma C**"
   ]
  },
  {
   "cell_type": "markdown",
   "metadata": {},
   "source": [
    "## Introdução"
   ]
  },
  {
   "cell_type": "markdown",
   "metadata": {},
   "source": [
    "A OCDE, sigla para Organização para a Cooperação e Desenvolvimento Econômico, é uma organização internacional e uma das mais influentes do mundo, criada em 1961. Apresenta como membros 36 países, considerados como detentores de elevado PIB per capita em relação ao restante dos países, representando cerca de 80% do comércio mundial e investimentos. Essa notável posição econômica se deve a um dos objetivos bem sucedidos da organização que envolve o apoio do crescimento econômico duradoro e suporte da circulação do comércio mundial.\n",
    "\n",
    "Além destas meta, há outras como aumento do nível de vida, como com o desenvolvimento de empregos e auxílio a outros países a desenvolverem as próprias economias.\n",
    "\n",
    "A fim de compreender melhor sobre o assunto foram extraídos dados estatísticos e informações acerca da OCDE, além de serem elaboradas hipóteses e perguntas para serem confirmadas e respondidas ao longo do processo de análise."
   ]
  },
  {
   "cell_type": "markdown",
   "metadata": {},
   "source": [
    "## Hipóteses"
   ]
  },
  {
   "cell_type": "markdown",
   "metadata": {},
   "source": [
    "•\tAo entrar na OCDE, o GDPcapita do país aumentará junto com a expectativa de vida, dado que tal indicador demonstra o quanto este país é desenvolvido e, então, mais os cidadãos se beneficiariam.\n",
    "\n",
    "•\tVariáveis como a média da GDPcapita, taxa de empregados, expectativa de vida deve ser maior dos países membros da OCDE do que dos outros"
   ]
  },
  {
   "cell_type": "markdown",
   "metadata": {},
   "source": [
    "## Pergunta"
   ]
  },
  {
   "cell_type": "markdown",
   "metadata": {},
   "source": [
    "•\tO Gini coeficiente dos países membros da organização é menor, ou seja, eles conseguem também amenizar a desigualdade como forma de benefício?"
   ]
  },
  {
   "cell_type": "markdown",
   "metadata": {},
   "source": [
    "## Mecanismo "
   ]
  },
  {
   "cell_type": "markdown",
   "metadata": {},
   "source": [
    "Para a verificação das hipóteses e perguntas, foram utilizados como ferramentas principais 4 arquivos do editor de planilhas Excel, onde estarão os dados necessários e a ferramenta pandas da linguagem de programação Python, a qual tornará viável o desenvolvimento de gráficos e tabelas para análise e interpretação destes e, assim, elaborar a conclusão sobre o estudo.\n",
    "\n",
    "Para a análise e demonstração de dados, serão plotados gráficos envolvendo as variáveis de GDPcapita, Employment, Life Expectancy e Gini coefficient - que serão melhor abordados em um tópico futuro - de ambos os grupos - membros da OCDE e não membros. Haverá também o desenvolvimento de um gráfico de análise bidimensional do crescimento de GDPcapita com a expectativa de vida, havendo como auxílio para desenvolvimento da conclusão uma pesquisa estatística com base na IndexMundi."
   ]
  },
  {
   "cell_type": "markdown",
   "metadata": {},
   "source": [
    "## Observação"
   ]
  },
  {
   "cell_type": "markdown",
   "metadata": {},
   "source": [
    "O estudo envolve a presença de 29 países membros da OCDE - aqueles que entraram antes de 2000, para uma análise com maior espaço de tempo - e outros 29 países que não pertencem à organização.\n",
    "\n",
    "É preciso salientar que, por ser apenas 29 países escolhidos entre todos os existentes, não haverá exatidão na comparação com os já inclusos na organização, o objetivo principal é ter uma noção sobre as diferenças entre ambos os grupos. Desta forma, quanto à seleção deles, considerou-se a diversidade da situaçao dos países, há tanto os desenvolvidos quanto subdesenvolvidos, visto que é importante enfatizar também a dispersão de valores entre as diversas situações que cada país vive."
   ]
  },
  {
   "cell_type": "markdown",
   "metadata": {},
   "source": [
    "## Importando os módulos"
   ]
  },
  {
   "cell_type": "code",
   "execution_count": 2,
   "metadata": {},
   "outputs": [],
   "source": [
    "%matplotlib inline\n",
    "import pandas as pd\n",
    "import matplotlib.pyplot as plt\n",
    "import numpy as np"
   ]
  },
  {
   "cell_type": "markdown",
   "metadata": {},
   "source": [
    "## Visualização do conteúdo"
   ]
  },
  {
   "cell_type": "code",
   "execution_count": 3,
   "metadata": {},
   "outputs": [],
   "source": [
    "import os\n",
    "gini = pd.read_excel('gini.xlsx')\n",
    "GDP = pd.read_excel('gdp_capita.xlsx')\n",
    "Employment = pd.read_excel('employment.xlsx')\n",
    "Life = pd.read_excel('life_expectancy_years.xlsx')"
   ]
  },
  {
   "cell_type": "markdown",
   "metadata": {},
   "source": [
    "**Evolution_GDP0**"
   ]
  },
  {
   "cell_type": "markdown",
   "metadata": {},
   "source": [
    "Tabela que será desenvolvida no pandas com auxílio do excel \"GDP\" e onde estarão localizadas os valores do GDPcapita ao longo dos anos (1985, 2000, 2015) dos países pertencentes à OCDE."
   ]
  },
  {
   "cell_type": "markdown",
   "metadata": {},
   "source": [
    "**Evolution_GDP1:**"
   ]
  },
  {
   "cell_type": "markdown",
   "metadata": {},
   "source": [
    "Tabela que será desenvolvida no pandas com a mesma elaboração da \"Evolution_GDP0\", mas será com os países não membros"
   ]
  },
  {
   "cell_type": "markdown",
   "metadata": {},
   "source": [
    "**Comparacao:**"
   ]
  },
  {
   "cell_type": "markdown",
   "metadata": {},
   "source": [
    "Tabela que será desenvolvida com o pandas com auxílio dos excel \"GDP\", \"Life\", \"Employment\" e \"Gini\" e que irá compor as variáveis GDPcapita, Employment, Life Expectancy, Gini coefficient e OCDE - para indicar se um país pertence (0) ou não (1) à organização e que será inclusa na tabela sem auxílio do excel e sim desenvolvida no pandas - em 2015\n",
    "\n",
    "GDPcapita indica o \"gross domestic product\" do país por sua população - traduzindo, o PIB per capita - em bilhões de dólares, permitindo comparar a prosperidade econômica de países mesmo com diferentes tamanhos populacionais.\n",
    "\n",
    "O \"Employment\" nesta análise está relacionada à taxa de empregados acima de 15 anos.\n",
    "\n",
    "Life Expectancy é a expectativa de vida, assim como é traduzido.\n",
    "\n",
    "Gini coefficient é uma medida estatística que calcula a desigualdade em uma sociedade; logo, um valor elevado significa maior desigualdade."
   ]
  },
  {
   "cell_type": "markdown",
   "metadata": {},
   "source": [
    "**Evolution_Life0:**"
   ]
  },
  {
   "cell_type": "markdown",
   "metadata": {},
   "source": [
    "Tabela que será desenvolvida no pandas e que mostrará a evolução da expectativa de vida dos países pertencentes à OCDE nos anos 1985, 2000 e 2015"
   ]
  },
  {
   "cell_type": "markdown",
   "metadata": {},
   "source": [
    "**Evolution_Life1:**"
   ]
  },
  {
   "cell_type": "markdown",
   "metadata": {},
   "source": [
    "Tabela que será desenvolvida no pandas e que mostrará a evolução da expectativa de vida dos países não pertencentes à organização nos anos 1985, 2000 e 2015"
   ]
  },
  {
   "cell_type": "markdown",
   "metadata": {},
   "source": [
    "# Processo de desenvolvimento das tabelas"
   ]
  },
  {
   "cell_type": "code",
   "execution_count": 4,
   "metadata": {},
   "outputs": [],
   "source": [
    "paises = pd.DataFrame({'Country' : ['Austria', 'Belgium', 'Denmark', 'France', 'Greece', 'Iceland', 'Ireland', 'Italy', 'Luxembourg', 'Norway', 'Netherlands', 'Portugal', 'United Kingdom', 'United States', 'Japan', 'Turkey', 'Germany', 'Spain', 'Canada', 'Sweden', 'Switzerland', 'Finland', 'Australia', 'New Zealand', 'Mexico', 'Czech Republic', 'Hungary', 'Poland', 'South Korea', 'Argentina', 'Singapore', 'Russia', 'Brazil', 'Iraq', 'Egypt', 'China', 'Peru', 'Philippines', 'South Africa', 'Venezuela', 'United Arab Emirates', 'Bolivia', 'Afghanistan', 'Croatia', 'Oman', 'Bahrain', 'Pakistan', 'Cuba', 'Kuwait', 'Qatar', 'Congo, Rep.', 'Ecuador', 'Guatemala', 'India', 'Indonesia', 'Nigeria', 'Colombia', 'Thailand']})"
   ]
  },
  {
   "cell_type": "code",
   "execution_count": 5,
   "metadata": {},
   "outputs": [],
   "source": [
    "paises_OCDE = pd.DataFrame({'Country' : ['Austria', 'Belgium', 'Denmark', 'France', 'Greece', 'Iceland', 'Ireland', 'Italy', 'Luxembourg', 'Norway', 'Netherlands', 'Portugal', 'United Kingdom', 'United States', 'Japan', 'Turkey', 'Germany', 'Spain', 'Canada', 'Sweden', 'Switzerland', 'Finland', 'Australia', 'New Zealand', 'Mexico', 'Czech Republic', 'Hungary', 'Poland', 'South Korea']})\n",
    "paises_OCDE_idx = paises_OCDE.set_index('Country')"
   ]
  },
  {
   "cell_type": "code",
   "execution_count": 6,
   "metadata": {},
   "outputs": [],
   "source": [
    "paises_outros = pd.DataFrame({ 'Country': ['Argentina', 'Singapore', 'Russia', 'Brazil', 'Iraq', 'Egypt', 'China', 'Peru', 'Philippines', 'South Africa', 'Venezuela', 'United Arab Emirates', 'Bolivia', 'Afghanistan', 'Croatia', 'Oman', 'Bahrain', 'Pakistan', 'Cuba', 'Kuwait', 'Qatar', 'Congo, Rep.', 'Ecuador', 'Guatemala', 'India', 'Indonesia', 'Nigeria', 'Colombia', 'Thailand']})\n",
    "paises_outros_idx = paises_outros.set_index('Country')"
   ]
  },
  {
   "cell_type": "code",
   "execution_count": 7,
   "metadata": {},
   "outputs": [],
   "source": [
    "gini_2015 = gini.loc[:, [\"country\", 2015]]\n",
    "GDPcapita_2015 = GDP.loc[:, [\"GDP per capita\", 2015]]\n",
    "Employment_2015 = Employment.loc[:, [\"country\", 2015]]\n",
    "Life_2015 = Life.loc[:, [\"country\", 2015]]"
   ]
  },
  {
   "cell_type": "code",
   "execution_count": 8,
   "metadata": {},
   "outputs": [],
   "source": [
    "gini_idx = gini_2015.set_index('country')\n",
    "gdp_idx = GDPcapita_2015.set_index('GDP per capita')\n",
    "paises_idx = paises.set_index('Country')\n",
    "employment_idx = Employment_2015.set_index('country')\n",
    "life_idx = Life_2015.set_index('country')"
   ]
  },
  {
   "cell_type": "code",
   "execution_count": 9,
   "metadata": {},
   "outputs": [],
   "source": [
    "paises_gdp = paises_idx.join(gdp_idx, how='inner')\n",
    "paises_gdp.columns = ['GDPcapita']"
   ]
  },
  {
   "cell_type": "code",
   "execution_count": 10,
   "metadata": {},
   "outputs": [],
   "source": [
    "paises_employment = paises_idx.join(employment_idx, how='inner')\n",
    "paises_employment.columns = ['Employment']"
   ]
  },
  {
   "cell_type": "code",
   "execution_count": 11,
   "metadata": {},
   "outputs": [],
   "source": [
    "paises_life = paises_idx.join(life_idx, how='inner')\n",
    "paises_life.columns = ['Life_expectancy']"
   ]
  },
  {
   "cell_type": "code",
   "execution_count": 12,
   "metadata": {},
   "outputs": [],
   "source": [
    "paises_gini = paises_idx.join(gini_idx, how='inner')\n",
    "paises_gini.columns = ['Gini_coefficient']"
   ]
  },
  {
   "cell_type": "code",
   "execution_count": 13,
   "metadata": {},
   "outputs": [],
   "source": [
    "paises_gdp_employment = paises_gdp.join(paises_employment, how='inner')\n",
    "paises_gdp_employment_life = paises_gdp_employment.join(paises_life, how='inner')\n",
    "Comparacao = paises_gdp_employment_life.join(paises_gini, how='inner')"
   ]
  },
  {
   "cell_type": "code",
   "execution_count": 14,
   "metadata": {},
   "outputs": [
    {
     "name": "stdout",
     "output_type": "stream",
     "text": [
      "Construção da tabela de \"Comparação\" pronta:\n"
     ]
    },
    {
     "data": {
      "text/html": [
       "<div>\n",
       "<style scoped>\n",
       "    .dataframe tbody tr th:only-of-type {\n",
       "        vertical-align: middle;\n",
       "    }\n",
       "\n",
       "    .dataframe tbody tr th {\n",
       "        vertical-align: top;\n",
       "    }\n",
       "\n",
       "    .dataframe thead th {\n",
       "        text-align: right;\n",
       "    }\n",
       "</style>\n",
       "<table border=\"1\" class=\"dataframe\">\n",
       "  <thead>\n",
       "    <tr style=\"text-align: right;\">\n",
       "      <th></th>\n",
       "      <th>GDPcapita</th>\n",
       "      <th>Employment</th>\n",
       "      <th>Life_expectancy</th>\n",
       "      <th>Gini_coefficient</th>\n",
       "      <th>OCDE</th>\n",
       "    </tr>\n",
       "  </thead>\n",
       "  <tbody>\n",
       "    <tr>\n",
       "      <th>Afghanistan</th>\n",
       "      <td>1925.0</td>\n",
       "      <td>49.1</td>\n",
       "      <td>57.9</td>\n",
       "      <td>36.8</td>\n",
       "      <td>1</td>\n",
       "    </tr>\n",
       "    <tr>\n",
       "      <th>Argentina</th>\n",
       "      <td>17344.0</td>\n",
       "      <td>55.7</td>\n",
       "      <td>76.5</td>\n",
       "      <td>41.8</td>\n",
       "      <td>1</td>\n",
       "    </tr>\n",
       "    <tr>\n",
       "      <th>Australia</th>\n",
       "      <td>44056.0</td>\n",
       "      <td>61.1</td>\n",
       "      <td>82.6</td>\n",
       "      <td>32.3</td>\n",
       "      <td>0</td>\n",
       "    </tr>\n",
       "    <tr>\n",
       "      <th>Austria</th>\n",
       "      <td>44401.0</td>\n",
       "      <td>56.7</td>\n",
       "      <td>81.4</td>\n",
       "      <td>30.6</td>\n",
       "      <td>0</td>\n",
       "    </tr>\n",
       "    <tr>\n",
       "      <th>Bahrain</th>\n",
       "      <td>44138.0</td>\n",
       "      <td>70.8</td>\n",
       "      <td>76.8</td>\n",
       "      <td>40.0</td>\n",
       "      <td>1</td>\n",
       "    </tr>\n",
       "    <tr>\n",
       "      <th>Belgium</th>\n",
       "      <td>41240.0</td>\n",
       "      <td>48.9</td>\n",
       "      <td>80.9</td>\n",
       "      <td>27.8</td>\n",
       "      <td>0</td>\n",
       "    </tr>\n",
       "    <tr>\n",
       "      <th>Bolivia</th>\n",
       "      <td>6295.0</td>\n",
       "      <td>65.0</td>\n",
       "      <td>73.0</td>\n",
       "      <td>46.3</td>\n",
       "      <td>1</td>\n",
       "    </tr>\n",
       "    <tr>\n",
       "      <th>Brazil</th>\n",
       "      <td>15441.0</td>\n",
       "      <td>58.7</td>\n",
       "      <td>75.2</td>\n",
       "      <td>51.6</td>\n",
       "      <td>1</td>\n",
       "    </tr>\n",
       "    <tr>\n",
       "      <th>Canada</th>\n",
       "      <td>43294.0</td>\n",
       "      <td>61.0</td>\n",
       "      <td>81.7</td>\n",
       "      <td>31.7</td>\n",
       "      <td>0</td>\n",
       "    </tr>\n",
       "    <tr>\n",
       "      <th>China</th>\n",
       "      <td>13334.0</td>\n",
       "      <td>66.5</td>\n",
       "      <td>76.3</td>\n",
       "      <td>39.4</td>\n",
       "      <td>1</td>\n",
       "    </tr>\n",
       "    <tr>\n",
       "      <th>Colombia</th>\n",
       "      <td>12761.0</td>\n",
       "      <td>64.8</td>\n",
       "      <td>78.0</td>\n",
       "      <td>51.7</td>\n",
       "      <td>1</td>\n",
       "    </tr>\n",
       "    <tr>\n",
       "      <th>Congo, Rep.</th>\n",
       "      <td>6220.0</td>\n",
       "      <td>62.8</td>\n",
       "      <td>62.6</td>\n",
       "      <td>48.9</td>\n",
       "      <td>1</td>\n",
       "    </tr>\n",
       "    <tr>\n",
       "      <th>Croatia</th>\n",
       "      <td>20260.0</td>\n",
       "      <td>44.3</td>\n",
       "      <td>77.3</td>\n",
       "      <td>31.5</td>\n",
       "      <td>1</td>\n",
       "    </tr>\n",
       "    <tr>\n",
       "      <th>Cuba</th>\n",
       "      <td>21291.0</td>\n",
       "      <td>53.4</td>\n",
       "      <td>78.9</td>\n",
       "      <td>43.4</td>\n",
       "      <td>1</td>\n",
       "    </tr>\n",
       "    <tr>\n",
       "      <th>Czech Republic</th>\n",
       "      <td>29437.0</td>\n",
       "      <td>56.6</td>\n",
       "      <td>78.9</td>\n",
       "      <td>26.0</td>\n",
       "      <td>0</td>\n",
       "    </tr>\n",
       "    <tr>\n",
       "      <th>Denmark</th>\n",
       "      <td>43495.0</td>\n",
       "      <td>58.2</td>\n",
       "      <td>80.7</td>\n",
       "      <td>28.3</td>\n",
       "      <td>0</td>\n",
       "    </tr>\n",
       "    <tr>\n",
       "      <th>Ecuador</th>\n",
       "      <td>10996.0</td>\n",
       "      <td>64.2</td>\n",
       "      <td>77.9</td>\n",
       "      <td>45.6</td>\n",
       "      <td>1</td>\n",
       "    </tr>\n",
       "    <tr>\n",
       "      <th>Egypt</th>\n",
       "      <td>11031.0</td>\n",
       "      <td>41.7</td>\n",
       "      <td>71.9</td>\n",
       "      <td>31.2</td>\n",
       "      <td>1</td>\n",
       "    </tr>\n",
       "    <tr>\n",
       "      <th>Finland</th>\n",
       "      <td>38923.0</td>\n",
       "      <td>53.3</td>\n",
       "      <td>81.5</td>\n",
       "      <td>27.1</td>\n",
       "      <td>0</td>\n",
       "    </tr>\n",
       "    <tr>\n",
       "      <th>France</th>\n",
       "      <td>37599.0</td>\n",
       "      <td>49.8</td>\n",
       "      <td>82.2</td>\n",
       "      <td>32.6</td>\n",
       "      <td>0</td>\n",
       "    </tr>\n",
       "    <tr>\n",
       "      <th>Germany</th>\n",
       "      <td>44053.0</td>\n",
       "      <td>57.5</td>\n",
       "      <td>80.8</td>\n",
       "      <td>31.6</td>\n",
       "      <td>0</td>\n",
       "    </tr>\n",
       "    <tr>\n",
       "      <th>Greece</th>\n",
       "      <td>25430.0</td>\n",
       "      <td>39.9</td>\n",
       "      <td>81.0</td>\n",
       "      <td>36.0</td>\n",
       "      <td>0</td>\n",
       "    </tr>\n",
       "    <tr>\n",
       "      <th>Guatemala</th>\n",
       "      <td>7279.0</td>\n",
       "      <td>59.8</td>\n",
       "      <td>72.5</td>\n",
       "      <td>48.5</td>\n",
       "      <td>1</td>\n",
       "    </tr>\n",
       "    <tr>\n",
       "      <th>Hungary</th>\n",
       "      <td>24200.0</td>\n",
       "      <td>51.1</td>\n",
       "      <td>75.7</td>\n",
       "      <td>30.7</td>\n",
       "      <td>0</td>\n",
       "    </tr>\n",
       "    <tr>\n",
       "      <th>Iceland</th>\n",
       "      <td>42182.0</td>\n",
       "      <td>74.0</td>\n",
       "      <td>82.2</td>\n",
       "      <td>27.3</td>\n",
       "      <td>0</td>\n",
       "    </tr>\n",
       "    <tr>\n",
       "      <th>India</th>\n",
       "      <td>5903.0</td>\n",
       "      <td>52.1</td>\n",
       "      <td>68.2</td>\n",
       "      <td>35.1</td>\n",
       "      <td>1</td>\n",
       "    </tr>\n",
       "    <tr>\n",
       "      <th>Indonesia</th>\n",
       "      <td>10504.0</td>\n",
       "      <td>62.9</td>\n",
       "      <td>71.4</td>\n",
       "      <td>39.1</td>\n",
       "      <td>1</td>\n",
       "    </tr>\n",
       "    <tr>\n",
       "      <th>Iraq</th>\n",
       "      <td>14646.0</td>\n",
       "      <td>42.8</td>\n",
       "      <td>67.6</td>\n",
       "      <td>29.5</td>\n",
       "      <td>1</td>\n",
       "    </tr>\n",
       "    <tr>\n",
       "      <th>Ireland</th>\n",
       "      <td>47758.0</td>\n",
       "      <td>54.6</td>\n",
       "      <td>81.1</td>\n",
       "      <td>32.2</td>\n",
       "      <td>0</td>\n",
       "    </tr>\n",
       "    <tr>\n",
       "      <th>Italy</th>\n",
       "      <td>33297.0</td>\n",
       "      <td>42.6</td>\n",
       "      <td>82.3</td>\n",
       "      <td>35.2</td>\n",
       "      <td>0</td>\n",
       "    </tr>\n",
       "    <tr>\n",
       "      <th>Japan</th>\n",
       "      <td>36162.0</td>\n",
       "      <td>58.0</td>\n",
       "      <td>83.8</td>\n",
       "      <td>32.1</td>\n",
       "      <td>0</td>\n",
       "    </tr>\n",
       "    <tr>\n",
       "      <th>Kuwait</th>\n",
       "      <td>82633.0</td>\n",
       "      <td>68.9</td>\n",
       "      <td>79.8</td>\n",
       "      <td>40.0</td>\n",
       "      <td>1</td>\n",
       "    </tr>\n",
       "    <tr>\n",
       "      <th>Luxembourg</th>\n",
       "      <td>88314.0</td>\n",
       "      <td>55.4</td>\n",
       "      <td>82.0</td>\n",
       "      <td>32.9</td>\n",
       "      <td>0</td>\n",
       "    </tr>\n",
       "    <tr>\n",
       "      <th>Mexico</th>\n",
       "      <td>16850.0</td>\n",
       "      <td>58.7</td>\n",
       "      <td>76.2</td>\n",
       "      <td>46.5</td>\n",
       "      <td>0</td>\n",
       "    </tr>\n",
       "    <tr>\n",
       "      <th>Netherlands</th>\n",
       "      <td>45784.0</td>\n",
       "      <td>59.7</td>\n",
       "      <td>81.6</td>\n",
       "      <td>28.3</td>\n",
       "      <td>0</td>\n",
       "    </tr>\n",
       "    <tr>\n",
       "      <th>New Zealand</th>\n",
       "      <td>34186.0</td>\n",
       "      <td>64.7</td>\n",
       "      <td>81.5</td>\n",
       "      <td>34.5</td>\n",
       "      <td>0</td>\n",
       "    </tr>\n",
       "    <tr>\n",
       "      <th>Nigeria</th>\n",
       "      <td>5727.0</td>\n",
       "      <td>52.7</td>\n",
       "      <td>64.0</td>\n",
       "      <td>43.0</td>\n",
       "      <td>1</td>\n",
       "    </tr>\n",
       "    <tr>\n",
       "      <th>Norway</th>\n",
       "      <td>64304.0</td>\n",
       "      <td>62.1</td>\n",
       "      <td>82.1</td>\n",
       "      <td>27.1</td>\n",
       "      <td>0</td>\n",
       "    </tr>\n",
       "    <tr>\n",
       "      <th>Oman</th>\n",
       "      <td>48226.0</td>\n",
       "      <td>67.3</td>\n",
       "      <td>77.4</td>\n",
       "      <td>40.0</td>\n",
       "      <td>1</td>\n",
       "    </tr>\n",
       "    <tr>\n",
       "      <th>Pakistan</th>\n",
       "      <td>4743.0</td>\n",
       "      <td>51.3</td>\n",
       "      <td>67.3</td>\n",
       "      <td>32.1</td>\n",
       "      <td>1</td>\n",
       "    </tr>\n",
       "    <tr>\n",
       "      <th>Peru</th>\n",
       "      <td>11903.0</td>\n",
       "      <td>73.8</td>\n",
       "      <td>79.5</td>\n",
       "      <td>43.7</td>\n",
       "      <td>1</td>\n",
       "    </tr>\n",
       "    <tr>\n",
       "      <th>Philippines</th>\n",
       "      <td>6876.0</td>\n",
       "      <td>60.5</td>\n",
       "      <td>70.1</td>\n",
       "      <td>42.7</td>\n",
       "      <td>1</td>\n",
       "    </tr>\n",
       "    <tr>\n",
       "      <th>Poland</th>\n",
       "      <td>24787.0</td>\n",
       "      <td>52.4</td>\n",
       "      <td>77.7</td>\n",
       "      <td>31.7</td>\n",
       "      <td>0</td>\n",
       "    </tr>\n",
       "    <tr>\n",
       "      <th>Portugal</th>\n",
       "      <td>26437.0</td>\n",
       "      <td>51.3</td>\n",
       "      <td>80.8</td>\n",
       "      <td>35.7</td>\n",
       "      <td>0</td>\n",
       "    </tr>\n",
       "    <tr>\n",
       "      <th>Qatar</th>\n",
       "      <td>132877.0</td>\n",
       "      <td>87.4</td>\n",
       "      <td>80.5</td>\n",
       "      <td>40.0</td>\n",
       "      <td>1</td>\n",
       "    </tr>\n",
       "    <tr>\n",
       "      <th>Russia</th>\n",
       "      <td>23038.0</td>\n",
       "      <td>60.1</td>\n",
       "      <td>70.8</td>\n",
       "      <td>38.8</td>\n",
       "      <td>1</td>\n",
       "    </tr>\n",
       "    <tr>\n",
       "      <th>Singapore</th>\n",
       "      <td>80794.0</td>\n",
       "      <td>67.7</td>\n",
       "      <td>83.6</td>\n",
       "      <td>40.9</td>\n",
       "      <td>1</td>\n",
       "    </tr>\n",
       "    <tr>\n",
       "      <th>South Africa</th>\n",
       "      <td>12509.0</td>\n",
       "      <td>40.9</td>\n",
       "      <td>61.8</td>\n",
       "      <td>63.1</td>\n",
       "      <td>1</td>\n",
       "    </tr>\n",
       "    <tr>\n",
       "      <th>South Korea</th>\n",
       "      <td>34644.0</td>\n",
       "      <td>60.2</td>\n",
       "      <td>80.9</td>\n",
       "      <td>31.6</td>\n",
       "      <td>0</td>\n",
       "    </tr>\n",
       "    <tr>\n",
       "      <th>Spain</th>\n",
       "      <td>32979.0</td>\n",
       "      <td>45.5</td>\n",
       "      <td>82.9</td>\n",
       "      <td>36.2</td>\n",
       "      <td>0</td>\n",
       "    </tr>\n",
       "    <tr>\n",
       "      <th>Sweden</th>\n",
       "      <td>44892.0</td>\n",
       "      <td>59.2</td>\n",
       "      <td>82.1</td>\n",
       "      <td>28.8</td>\n",
       "      <td>0</td>\n",
       "    </tr>\n",
       "    <tr>\n",
       "      <th>Switzerland</th>\n",
       "      <td>56118.0</td>\n",
       "      <td>64.9</td>\n",
       "      <td>83.1</td>\n",
       "      <td>32.4</td>\n",
       "      <td>0</td>\n",
       "    </tr>\n",
       "    <tr>\n",
       "      <th>Thailand</th>\n",
       "      <td>14512.0</td>\n",
       "      <td>68.7</td>\n",
       "      <td>77.6</td>\n",
       "      <td>36.6</td>\n",
       "      <td>1</td>\n",
       "    </tr>\n",
       "    <tr>\n",
       "      <th>Turkey</th>\n",
       "      <td>19360.0</td>\n",
       "      <td>45.8</td>\n",
       "      <td>79.0</td>\n",
       "      <td>41.6</td>\n",
       "      <td>0</td>\n",
       "    </tr>\n",
       "    <tr>\n",
       "      <th>United Arab Emirates</th>\n",
       "      <td>60749.0</td>\n",
       "      <td>79.7</td>\n",
       "      <td>76.5</td>\n",
       "      <td>40.0</td>\n",
       "      <td>1</td>\n",
       "    </tr>\n",
       "    <tr>\n",
       "      <th>United Kingdom</th>\n",
       "      <td>38225.0</td>\n",
       "      <td>58.9</td>\n",
       "      <td>80.8</td>\n",
       "      <td>33.4</td>\n",
       "      <td>0</td>\n",
       "    </tr>\n",
       "    <tr>\n",
       "      <th>United States</th>\n",
       "      <td>53354.0</td>\n",
       "      <td>58.7</td>\n",
       "      <td>78.8</td>\n",
       "      <td>41.3</td>\n",
       "      <td>0</td>\n",
       "    </tr>\n",
       "    <tr>\n",
       "      <th>Venezuela</th>\n",
       "      <td>15753.0</td>\n",
       "      <td>59.9</td>\n",
       "      <td>75.5</td>\n",
       "      <td>46.9</td>\n",
       "      <td>1</td>\n",
       "    </tr>\n",
       "  </tbody>\n",
       "</table>\n",
       "</div>"
      ],
      "text/plain": [
       "                      GDPcapita  Employment  Life_expectancy  \\\n",
       "Afghanistan              1925.0        49.1             57.9   \n",
       "Argentina               17344.0        55.7             76.5   \n",
       "Australia               44056.0        61.1             82.6   \n",
       "Austria                 44401.0        56.7             81.4   \n",
       "Bahrain                 44138.0        70.8             76.8   \n",
       "Belgium                 41240.0        48.9             80.9   \n",
       "Bolivia                  6295.0        65.0             73.0   \n",
       "Brazil                  15441.0        58.7             75.2   \n",
       "Canada                  43294.0        61.0             81.7   \n",
       "China                   13334.0        66.5             76.3   \n",
       "Colombia                12761.0        64.8             78.0   \n",
       "Congo, Rep.              6220.0        62.8             62.6   \n",
       "Croatia                 20260.0        44.3             77.3   \n",
       "Cuba                    21291.0        53.4             78.9   \n",
       "Czech Republic          29437.0        56.6             78.9   \n",
       "Denmark                 43495.0        58.2             80.7   \n",
       "Ecuador                 10996.0        64.2             77.9   \n",
       "Egypt                   11031.0        41.7             71.9   \n",
       "Finland                 38923.0        53.3             81.5   \n",
       "France                  37599.0        49.8             82.2   \n",
       "Germany                 44053.0        57.5             80.8   \n",
       "Greece                  25430.0        39.9             81.0   \n",
       "Guatemala                7279.0        59.8             72.5   \n",
       "Hungary                 24200.0        51.1             75.7   \n",
       "Iceland                 42182.0        74.0             82.2   \n",
       "India                    5903.0        52.1             68.2   \n",
       "Indonesia               10504.0        62.9             71.4   \n",
       "Iraq                    14646.0        42.8             67.6   \n",
       "Ireland                 47758.0        54.6             81.1   \n",
       "Italy                   33297.0        42.6             82.3   \n",
       "Japan                   36162.0        58.0             83.8   \n",
       "Kuwait                  82633.0        68.9             79.8   \n",
       "Luxembourg              88314.0        55.4             82.0   \n",
       "Mexico                  16850.0        58.7             76.2   \n",
       "Netherlands             45784.0        59.7             81.6   \n",
       "New Zealand             34186.0        64.7             81.5   \n",
       "Nigeria                  5727.0        52.7             64.0   \n",
       "Norway                  64304.0        62.1             82.1   \n",
       "Oman                    48226.0        67.3             77.4   \n",
       "Pakistan                 4743.0        51.3             67.3   \n",
       "Peru                    11903.0        73.8             79.5   \n",
       "Philippines              6876.0        60.5             70.1   \n",
       "Poland                  24787.0        52.4             77.7   \n",
       "Portugal                26437.0        51.3             80.8   \n",
       "Qatar                  132877.0        87.4             80.5   \n",
       "Russia                  23038.0        60.1             70.8   \n",
       "Singapore               80794.0        67.7             83.6   \n",
       "South Africa            12509.0        40.9             61.8   \n",
       "South Korea             34644.0        60.2             80.9   \n",
       "Spain                   32979.0        45.5             82.9   \n",
       "Sweden                  44892.0        59.2             82.1   \n",
       "Switzerland             56118.0        64.9             83.1   \n",
       "Thailand                14512.0        68.7             77.6   \n",
       "Turkey                  19360.0        45.8             79.0   \n",
       "United Arab Emirates    60749.0        79.7             76.5   \n",
       "United Kingdom          38225.0        58.9             80.8   \n",
       "United States           53354.0        58.7             78.8   \n",
       "Venezuela               15753.0        59.9             75.5   \n",
       "\n",
       "                      Gini_coefficient  OCDE  \n",
       "Afghanistan                       36.8     1  \n",
       "Argentina                         41.8     1  \n",
       "Australia                         32.3     0  \n",
       "Austria                           30.6     0  \n",
       "Bahrain                           40.0     1  \n",
       "Belgium                           27.8     0  \n",
       "Bolivia                           46.3     1  \n",
       "Brazil                            51.6     1  \n",
       "Canada                            31.7     0  \n",
       "China                             39.4     1  \n",
       "Colombia                          51.7     1  \n",
       "Congo, Rep.                       48.9     1  \n",
       "Croatia                           31.5     1  \n",
       "Cuba                              43.4     1  \n",
       "Czech Republic                    26.0     0  \n",
       "Denmark                           28.3     0  \n",
       "Ecuador                           45.6     1  \n",
       "Egypt                             31.2     1  \n",
       "Finland                           27.1     0  \n",
       "France                            32.6     0  \n",
       "Germany                           31.6     0  \n",
       "Greece                            36.0     0  \n",
       "Guatemala                         48.5     1  \n",
       "Hungary                           30.7     0  \n",
       "Iceland                           27.3     0  \n",
       "India                             35.1     1  \n",
       "Indonesia                         39.1     1  \n",
       "Iraq                              29.5     1  \n",
       "Ireland                           32.2     0  \n",
       "Italy                             35.2     0  \n",
       "Japan                             32.1     0  \n",
       "Kuwait                            40.0     1  \n",
       "Luxembourg                        32.9     0  \n",
       "Mexico                            46.5     0  \n",
       "Netherlands                       28.3     0  \n",
       "New Zealand                       34.5     0  \n",
       "Nigeria                           43.0     1  \n",
       "Norway                            27.1     0  \n",
       "Oman                              40.0     1  \n",
       "Pakistan                          32.1     1  \n",
       "Peru                              43.7     1  \n",
       "Philippines                       42.7     1  \n",
       "Poland                            31.7     0  \n",
       "Portugal                          35.7     0  \n",
       "Qatar                             40.0     1  \n",
       "Russia                            38.8     1  \n",
       "Singapore                         40.9     1  \n",
       "South Africa                      63.1     1  \n",
       "South Korea                       31.6     0  \n",
       "Spain                             36.2     0  \n",
       "Sweden                            28.8     0  \n",
       "Switzerland                       32.4     0  \n",
       "Thailand                          36.6     1  \n",
       "Turkey                            41.6     0  \n",
       "United Arab Emirates              40.0     1  \n",
       "United Kingdom                    33.4     0  \n",
       "United States                     41.3     0  \n",
       "Venezuela                         46.9     1  "
      ]
     },
     "execution_count": 14,
     "metadata": {},
     "output_type": "execute_result"
    }
   ],
   "source": [
    "outros = ['Argentina', 'Singapore', 'Russia', 'Brazil', 'Iraq', 'Egypt', 'China', 'Peru', 'Philippines', 'South Africa', 'Venezuela', 'United Arab Emirates', 'Bolivia', 'Afghanistan', 'Croatia', 'Oman', 'Bahrain', 'Pakistan', 'Cuba', 'Kuwait', 'Qatar', 'Congo, Rep.', 'Ecuador', 'Guatemala', 'India', 'Indonesia', 'Nigeria', 'Colombia', 'Thailand']\n",
    "Comparacao['OCDE']=0\n",
    "Comparacao.loc[outros, 'OCDE']=1\n",
    "print('Construção da tabela de \"Comparação\" pronta:')\n",
    "Comparacao"
   ]
  },
  {
   "cell_type": "markdown",
   "metadata": {},
   "source": [
    "## Evolução da expectativa de vida - países da OCDE"
   ]
  },
  {
   "cell_type": "code",
   "execution_count": 15,
   "metadata": {},
   "outputs": [
    {
     "name": "stdout",
     "output_type": "stream",
     "text": [
      "Construção da tabela \"Evolution_Life0\" pronta:\n"
     ]
    },
    {
     "data": {
      "text/html": [
       "<div>\n",
       "<style scoped>\n",
       "    .dataframe tbody tr th:only-of-type {\n",
       "        vertical-align: middle;\n",
       "    }\n",
       "\n",
       "    .dataframe tbody tr th {\n",
       "        vertical-align: top;\n",
       "    }\n",
       "\n",
       "    .dataframe thead th {\n",
       "        text-align: right;\n",
       "    }\n",
       "</style>\n",
       "<table border=\"1\" class=\"dataframe\">\n",
       "  <thead>\n",
       "    <tr style=\"text-align: right;\">\n",
       "      <th></th>\n",
       "      <th>1985</th>\n",
       "      <th>2000</th>\n",
       "      <th>2015</th>\n",
       "    </tr>\n",
       "  </thead>\n",
       "  <tbody>\n",
       "    <tr>\n",
       "      <th>Austria</th>\n",
       "      <td>73.9</td>\n",
       "      <td>78.1</td>\n",
       "      <td>81.4</td>\n",
       "    </tr>\n",
       "    <tr>\n",
       "      <th>Belgium</th>\n",
       "      <td>74.5</td>\n",
       "      <td>77.8</td>\n",
       "      <td>80.9</td>\n",
       "    </tr>\n",
       "    <tr>\n",
       "      <th>Denmark</th>\n",
       "      <td>74.7</td>\n",
       "      <td>76.9</td>\n",
       "      <td>80.7</td>\n",
       "    </tr>\n",
       "    <tr>\n",
       "      <th>France</th>\n",
       "      <td>75.8</td>\n",
       "      <td>79.1</td>\n",
       "      <td>82.2</td>\n",
       "    </tr>\n",
       "    <tr>\n",
       "      <th>Greece</th>\n",
       "      <td>76.2</td>\n",
       "      <td>78.6</td>\n",
       "      <td>81.0</td>\n",
       "    </tr>\n",
       "    <tr>\n",
       "      <th>Iceland</th>\n",
       "      <td>77.4</td>\n",
       "      <td>79.9</td>\n",
       "      <td>82.2</td>\n",
       "    </tr>\n",
       "    <tr>\n",
       "      <th>Ireland</th>\n",
       "      <td>73.8</td>\n",
       "      <td>76.7</td>\n",
       "      <td>81.1</td>\n",
       "    </tr>\n",
       "    <tr>\n",
       "      <th>Italy</th>\n",
       "      <td>75.6</td>\n",
       "      <td>79.5</td>\n",
       "      <td>82.3</td>\n",
       "    </tr>\n",
       "    <tr>\n",
       "      <th>Luxembourg</th>\n",
       "      <td>73.8</td>\n",
       "      <td>78.4</td>\n",
       "      <td>82.0</td>\n",
       "    </tr>\n",
       "    <tr>\n",
       "      <th>Norway</th>\n",
       "      <td>76.2</td>\n",
       "      <td>78.7</td>\n",
       "      <td>82.1</td>\n",
       "    </tr>\n",
       "    <tr>\n",
       "      <th>Netherlands</th>\n",
       "      <td>76.4</td>\n",
       "      <td>78.1</td>\n",
       "      <td>81.6</td>\n",
       "    </tr>\n",
       "    <tr>\n",
       "      <th>Portugal</th>\n",
       "      <td>73.2</td>\n",
       "      <td>76.7</td>\n",
       "      <td>80.8</td>\n",
       "    </tr>\n",
       "    <tr>\n",
       "      <th>United Kingdom</th>\n",
       "      <td>74.6</td>\n",
       "      <td>77.8</td>\n",
       "      <td>80.8</td>\n",
       "    </tr>\n",
       "    <tr>\n",
       "      <th>United States</th>\n",
       "      <td>74.7</td>\n",
       "      <td>76.9</td>\n",
       "      <td>78.8</td>\n",
       "    </tr>\n",
       "    <tr>\n",
       "      <th>Japan</th>\n",
       "      <td>77.7</td>\n",
       "      <td>81.0</td>\n",
       "      <td>83.8</td>\n",
       "    </tr>\n",
       "    <tr>\n",
       "      <th>Turkey</th>\n",
       "      <td>68.0</td>\n",
       "      <td>74.1</td>\n",
       "      <td>79.0</td>\n",
       "    </tr>\n",
       "    <tr>\n",
       "      <th>Germany</th>\n",
       "      <td>74.2</td>\n",
       "      <td>77.9</td>\n",
       "      <td>80.8</td>\n",
       "    </tr>\n",
       "    <tr>\n",
       "      <th>Spain</th>\n",
       "      <td>76.4</td>\n",
       "      <td>79.4</td>\n",
       "      <td>82.9</td>\n",
       "    </tr>\n",
       "    <tr>\n",
       "      <th>Canada</th>\n",
       "      <td>76.5</td>\n",
       "      <td>79.2</td>\n",
       "      <td>81.7</td>\n",
       "    </tr>\n",
       "    <tr>\n",
       "      <th>Sweden</th>\n",
       "      <td>76.9</td>\n",
       "      <td>79.7</td>\n",
       "      <td>82.1</td>\n",
       "    </tr>\n",
       "    <tr>\n",
       "      <th>Switzerland</th>\n",
       "      <td>76.9</td>\n",
       "      <td>79.9</td>\n",
       "      <td>83.1</td>\n",
       "    </tr>\n",
       "    <tr>\n",
       "      <th>Finland</th>\n",
       "      <td>74.5</td>\n",
       "      <td>77.7</td>\n",
       "      <td>81.5</td>\n",
       "    </tr>\n",
       "    <tr>\n",
       "      <th>Australia</th>\n",
       "      <td>75.7</td>\n",
       "      <td>79.7</td>\n",
       "      <td>82.6</td>\n",
       "    </tr>\n",
       "    <tr>\n",
       "      <th>New Zealand</th>\n",
       "      <td>74.1</td>\n",
       "      <td>78.5</td>\n",
       "      <td>81.5</td>\n",
       "    </tr>\n",
       "    <tr>\n",
       "      <th>Mexico</th>\n",
       "      <td>69.1</td>\n",
       "      <td>74.6</td>\n",
       "      <td>76.2</td>\n",
       "    </tr>\n",
       "    <tr>\n",
       "      <th>Czech Republic</th>\n",
       "      <td>71.1</td>\n",
       "      <td>75.0</td>\n",
       "      <td>78.9</td>\n",
       "    </tr>\n",
       "    <tr>\n",
       "      <th>Hungary</th>\n",
       "      <td>69.1</td>\n",
       "      <td>71.8</td>\n",
       "      <td>75.7</td>\n",
       "    </tr>\n",
       "    <tr>\n",
       "      <th>Poland</th>\n",
       "      <td>70.7</td>\n",
       "      <td>73.8</td>\n",
       "      <td>77.7</td>\n",
       "    </tr>\n",
       "    <tr>\n",
       "      <th>South Korea</th>\n",
       "      <td>69.8</td>\n",
       "      <td>76.0</td>\n",
       "      <td>80.9</td>\n",
       "    </tr>\n",
       "  </tbody>\n",
       "</table>\n",
       "</div>"
      ],
      "text/plain": [
       "                1985  2000  2015\n",
       "Austria         73.9  78.1  81.4\n",
       "Belgium         74.5  77.8  80.9\n",
       "Denmark         74.7  76.9  80.7\n",
       "France          75.8  79.1  82.2\n",
       "Greece          76.2  78.6  81.0\n",
       "Iceland         77.4  79.9  82.2\n",
       "Ireland         73.8  76.7  81.1\n",
       "Italy           75.6  79.5  82.3\n",
       "Luxembourg      73.8  78.4  82.0\n",
       "Norway          76.2  78.7  82.1\n",
       "Netherlands     76.4  78.1  81.6\n",
       "Portugal        73.2  76.7  80.8\n",
       "United Kingdom  74.6  77.8  80.8\n",
       "United States   74.7  76.9  78.8\n",
       "Japan           77.7  81.0  83.8\n",
       "Turkey          68.0  74.1  79.0\n",
       "Germany         74.2  77.9  80.8\n",
       "Spain           76.4  79.4  82.9\n",
       "Canada          76.5  79.2  81.7\n",
       "Sweden          76.9  79.7  82.1\n",
       "Switzerland     76.9  79.9  83.1\n",
       "Finland         74.5  77.7  81.5\n",
       "Australia       75.7  79.7  82.6\n",
       "New Zealand     74.1  78.5  81.5\n",
       "Mexico          69.1  74.6  76.2\n",
       "Czech Republic  71.1  75.0  78.9\n",
       "Hungary         69.1  71.8  75.7\n",
       "Poland          70.7  73.8  77.7\n",
       "South Korea     69.8  76.0  80.9"
      ]
     },
     "execution_count": 15,
     "metadata": {},
     "output_type": "execute_result"
    }
   ],
   "source": [
    "Life_1985 = Life.loc[:, [\"country\", 1985]]\n",
    "Life_2000 = Life.loc[:, [\"country\", 2000]]\n",
    "Life_2015 = Life.loc[:, [\"country\", 2015]]\n",
    "\n",
    "Life_1985_idx = Life_1985.set_index('country')\n",
    "Life_2000_idx = Life_2000.set_index('country')\n",
    "Life_2015_idx = Life_2015.set_index('country')\n",
    "paises_OCDE_idx = paises_OCDE.set_index('Country')\n",
    "\n",
    "paises_1985 = paises_OCDE_idx.join(Life_1985_idx, how='inner')\n",
    "paises_2000 = paises_1985.join(Life_2000_idx, how='inner')\n",
    "Evolution_Life0 = paises_2000.join(Life_2015_idx, how='inner')\n",
    "\n",
    "print('Construção da tabela \"Evolution_Life0\" pronta:')\n",
    "Evolution_Life0"
   ]
  },
  {
   "cell_type": "markdown",
   "metadata": {},
   "source": [
    "## Evolução da expectativa de vida - países não membros"
   ]
  },
  {
   "cell_type": "code",
   "execution_count": 16,
   "metadata": {},
   "outputs": [
    {
     "name": "stdout",
     "output_type": "stream",
     "text": [
      "Construção da tabela \"Evolution_Life1\" pronta:\n"
     ]
    },
    {
     "data": {
      "text/html": [
       "<div>\n",
       "<style scoped>\n",
       "    .dataframe tbody tr th:only-of-type {\n",
       "        vertical-align: middle;\n",
       "    }\n",
       "\n",
       "    .dataframe tbody tr th {\n",
       "        vertical-align: top;\n",
       "    }\n",
       "\n",
       "    .dataframe thead th {\n",
       "        text-align: right;\n",
       "    }\n",
       "</style>\n",
       "<table border=\"1\" class=\"dataframe\">\n",
       "  <thead>\n",
       "    <tr style=\"text-align: right;\">\n",
       "      <th></th>\n",
       "      <th>1985</th>\n",
       "      <th>2000</th>\n",
       "      <th>2015</th>\n",
       "    </tr>\n",
       "  </thead>\n",
       "  <tbody>\n",
       "    <tr>\n",
       "      <th>Argentina</th>\n",
       "      <td>71.3</td>\n",
       "      <td>74.2</td>\n",
       "      <td>76.5</td>\n",
       "    </tr>\n",
       "    <tr>\n",
       "      <th>Singapore</th>\n",
       "      <td>73.2</td>\n",
       "      <td>79.4</td>\n",
       "      <td>83.6</td>\n",
       "    </tr>\n",
       "    <tr>\n",
       "      <th>Russia</th>\n",
       "      <td>67.9</td>\n",
       "      <td>65.6</td>\n",
       "      <td>70.8</td>\n",
       "    </tr>\n",
       "    <tr>\n",
       "      <th>Brazil</th>\n",
       "      <td>67.0</td>\n",
       "      <td>71.4</td>\n",
       "      <td>75.2</td>\n",
       "    </tr>\n",
       "    <tr>\n",
       "      <th>Iraq</th>\n",
       "      <td>60.2</td>\n",
       "      <td>66.0</td>\n",
       "      <td>67.6</td>\n",
       "    </tr>\n",
       "    <tr>\n",
       "      <th>Egypt</th>\n",
       "      <td>61.1</td>\n",
       "      <td>69.9</td>\n",
       "      <td>71.9</td>\n",
       "    </tr>\n",
       "    <tr>\n",
       "      <th>China</th>\n",
       "      <td>66.1</td>\n",
       "      <td>70.0</td>\n",
       "      <td>76.3</td>\n",
       "    </tr>\n",
       "    <tr>\n",
       "      <th>Peru</th>\n",
       "      <td>66.0</td>\n",
       "      <td>74.8</td>\n",
       "      <td>79.5</td>\n",
       "    </tr>\n",
       "    <tr>\n",
       "      <th>Philippines</th>\n",
       "      <td>65.6</td>\n",
       "      <td>68.2</td>\n",
       "      <td>70.1</td>\n",
       "    </tr>\n",
       "    <tr>\n",
       "      <th>South Africa</th>\n",
       "      <td>61.9</td>\n",
       "      <td>55.4</td>\n",
       "      <td>61.8</td>\n",
       "    </tr>\n",
       "    <tr>\n",
       "      <th>Venezuela</th>\n",
       "      <td>71.8</td>\n",
       "      <td>74.3</td>\n",
       "      <td>75.5</td>\n",
       "    </tr>\n",
       "    <tr>\n",
       "      <th>United Arab Emirates</th>\n",
       "      <td>72.5</td>\n",
       "      <td>74.8</td>\n",
       "      <td>76.5</td>\n",
       "    </tr>\n",
       "    <tr>\n",
       "      <th>Bolivia</th>\n",
       "      <td>58.7</td>\n",
       "      <td>67.7</td>\n",
       "      <td>73.0</td>\n",
       "    </tr>\n",
       "    <tr>\n",
       "      <th>Afghanistan</th>\n",
       "      <td>41.6</td>\n",
       "      <td>51.6</td>\n",
       "      <td>57.9</td>\n",
       "    </tr>\n",
       "    <tr>\n",
       "      <th>Croatia</th>\n",
       "      <td>71.0</td>\n",
       "      <td>73.9</td>\n",
       "      <td>77.3</td>\n",
       "    </tr>\n",
       "    <tr>\n",
       "      <th>Oman</th>\n",
       "      <td>67.6</td>\n",
       "      <td>74.5</td>\n",
       "      <td>77.4</td>\n",
       "    </tr>\n",
       "    <tr>\n",
       "      <th>Bahrain</th>\n",
       "      <td>70.8</td>\n",
       "      <td>71.7</td>\n",
       "      <td>76.8</td>\n",
       "    </tr>\n",
       "    <tr>\n",
       "      <th>Pakistan</th>\n",
       "      <td>61.8</td>\n",
       "      <td>62.6</td>\n",
       "      <td>67.3</td>\n",
       "    </tr>\n",
       "    <tr>\n",
       "      <th>Cuba</th>\n",
       "      <td>74.5</td>\n",
       "      <td>76.6</td>\n",
       "      <td>78.9</td>\n",
       "    </tr>\n",
       "    <tr>\n",
       "      <th>Kuwait</th>\n",
       "      <td>73.9</td>\n",
       "      <td>76.5</td>\n",
       "      <td>79.8</td>\n",
       "    </tr>\n",
       "    <tr>\n",
       "      <th>Qatar</th>\n",
       "      <td>73.1</td>\n",
       "      <td>75.3</td>\n",
       "      <td>80.5</td>\n",
       "    </tr>\n",
       "    <tr>\n",
       "      <th>Congo, Rep.</th>\n",
       "      <td>55.0</td>\n",
       "      <td>52.8</td>\n",
       "      <td>62.6</td>\n",
       "    </tr>\n",
       "    <tr>\n",
       "      <th>Ecuador</th>\n",
       "      <td>69.9</td>\n",
       "      <td>74.3</td>\n",
       "      <td>77.9</td>\n",
       "    </tr>\n",
       "    <tr>\n",
       "      <th>Guatemala</th>\n",
       "      <td>62.0</td>\n",
       "      <td>68.6</td>\n",
       "      <td>72.5</td>\n",
       "    </tr>\n",
       "    <tr>\n",
       "      <th>India</th>\n",
       "      <td>56.8</td>\n",
       "      <td>62.3</td>\n",
       "      <td>68.2</td>\n",
       "    </tr>\n",
       "    <tr>\n",
       "      <th>Indonesia</th>\n",
       "      <td>61.8</td>\n",
       "      <td>67.3</td>\n",
       "      <td>71.4</td>\n",
       "    </tr>\n",
       "    <tr>\n",
       "      <th>Nigeria</th>\n",
       "      <td>55.6</td>\n",
       "      <td>54.9</td>\n",
       "      <td>64.0</td>\n",
       "    </tr>\n",
       "    <tr>\n",
       "      <th>Colombia</th>\n",
       "      <td>68.0</td>\n",
       "      <td>73.3</td>\n",
       "      <td>78.0</td>\n",
       "    </tr>\n",
       "    <tr>\n",
       "      <th>Thailand</th>\n",
       "      <td>68.8</td>\n",
       "      <td>72.0</td>\n",
       "      <td>77.6</td>\n",
       "    </tr>\n",
       "  </tbody>\n",
       "</table>\n",
       "</div>"
      ],
      "text/plain": [
       "                      1985  2000  2015\n",
       "Argentina             71.3  74.2  76.5\n",
       "Singapore             73.2  79.4  83.6\n",
       "Russia                67.9  65.6  70.8\n",
       "Brazil                67.0  71.4  75.2\n",
       "Iraq                  60.2  66.0  67.6\n",
       "Egypt                 61.1  69.9  71.9\n",
       "China                 66.1  70.0  76.3\n",
       "Peru                  66.0  74.8  79.5\n",
       "Philippines           65.6  68.2  70.1\n",
       "South Africa          61.9  55.4  61.8\n",
       "Venezuela             71.8  74.3  75.5\n",
       "United Arab Emirates  72.5  74.8  76.5\n",
       "Bolivia               58.7  67.7  73.0\n",
       "Afghanistan           41.6  51.6  57.9\n",
       "Croatia               71.0  73.9  77.3\n",
       "Oman                  67.6  74.5  77.4\n",
       "Bahrain               70.8  71.7  76.8\n",
       "Pakistan              61.8  62.6  67.3\n",
       "Cuba                  74.5  76.6  78.9\n",
       "Kuwait                73.9  76.5  79.8\n",
       "Qatar                 73.1  75.3  80.5\n",
       "Congo, Rep.           55.0  52.8  62.6\n",
       "Ecuador               69.9  74.3  77.9\n",
       "Guatemala             62.0  68.6  72.5\n",
       "India                 56.8  62.3  68.2\n",
       "Indonesia             61.8  67.3  71.4\n",
       "Nigeria               55.6  54.9  64.0\n",
       "Colombia              68.0  73.3  78.0\n",
       "Thailand              68.8  72.0  77.6"
      ]
     },
     "execution_count": 16,
     "metadata": {},
     "output_type": "execute_result"
    }
   ],
   "source": [
    "Life_1985_outros = Life.loc[:, [\"country\", 1985]]\n",
    "Life_2000_outros = Life.loc[:, [\"country\", 2000]]\n",
    "Life_2015_outros = Life.loc[:, [\"country\", 2015]]\n",
    "\n",
    "Life_1985_idx_outros = Life_1985.set_index('country')\n",
    "Life_2000_idx_outros = Life_2000.set_index('country')\n",
    "Life_2015_idx_outros = Life_2015.set_index('country')\n",
    "paises_outros_idx = paises_outros.set_index('Country')\n",
    "\n",
    "paises_1985_outros = paises_outros_idx.join(Life_1985_idx_outros, how='inner')\n",
    "paises_2000_outros = paises_1985_outros.join(Life_2000_idx_outros, how='inner')\n",
    "Evolution_Life1 = paises_2000_outros.join(Life_2015_idx_outros, how='inner')\n",
    "\n",
    "print('Construção da tabela \"Evolution_Life1\" pronta:')\n",
    "Evolution_Life1"
   ]
  },
  {
   "cell_type": "markdown",
   "metadata": {},
   "source": [
    "## Evolução de GDPcapita - países da OCDE"
   ]
  },
  {
   "cell_type": "code",
   "execution_count": 17,
   "metadata": {},
   "outputs": [
    {
     "name": "stdout",
     "output_type": "stream",
     "text": [
      "Construção da tabela \"Evolution_GDP0\" pronta:\n"
     ]
    },
    {
     "data": {
      "text/html": [
       "<div>\n",
       "<style scoped>\n",
       "    .dataframe tbody tr th:only-of-type {\n",
       "        vertical-align: middle;\n",
       "    }\n",
       "\n",
       "    .dataframe tbody tr th {\n",
       "        vertical-align: top;\n",
       "    }\n",
       "\n",
       "    .dataframe thead th {\n",
       "        text-align: right;\n",
       "    }\n",
       "</style>\n",
       "<table border=\"1\" class=\"dataframe\">\n",
       "  <thead>\n",
       "    <tr style=\"text-align: right;\">\n",
       "      <th></th>\n",
       "      <th>1985</th>\n",
       "      <th>2000</th>\n",
       "      <th>2015</th>\n",
       "    </tr>\n",
       "  </thead>\n",
       "  <tbody>\n",
       "    <tr>\n",
       "      <th>Australia</th>\n",
       "      <td>25875.0</td>\n",
       "      <td>35253.0</td>\n",
       "      <td>44056.0</td>\n",
       "    </tr>\n",
       "    <tr>\n",
       "      <th>Austria</th>\n",
       "      <td>27100.0</td>\n",
       "      <td>38548.0</td>\n",
       "      <td>44401.0</td>\n",
       "    </tr>\n",
       "    <tr>\n",
       "      <th>Belgium</th>\n",
       "      <td>26792.0</td>\n",
       "      <td>37404.0</td>\n",
       "      <td>41240.0</td>\n",
       "    </tr>\n",
       "    <tr>\n",
       "      <th>Canada</th>\n",
       "      <td>29016.0</td>\n",
       "      <td>37314.0</td>\n",
       "      <td>43294.0</td>\n",
       "    </tr>\n",
       "    <tr>\n",
       "      <th>Czech Republic</th>\n",
       "      <td>19492.0</td>\n",
       "      <td>21003.0</td>\n",
       "      <td>29437.0</td>\n",
       "    </tr>\n",
       "    <tr>\n",
       "      <th>Denmark</th>\n",
       "      <td>31032.0</td>\n",
       "      <td>41693.0</td>\n",
       "      <td>43495.0</td>\n",
       "    </tr>\n",
       "    <tr>\n",
       "      <th>Finland</th>\n",
       "      <td>24630.0</td>\n",
       "      <td>34517.0</td>\n",
       "      <td>38923.0</td>\n",
       "    </tr>\n",
       "    <tr>\n",
       "      <th>France</th>\n",
       "      <td>25917.0</td>\n",
       "      <td>34774.0</td>\n",
       "      <td>37599.0</td>\n",
       "    </tr>\n",
       "    <tr>\n",
       "      <th>Germany</th>\n",
       "      <td>29851.0</td>\n",
       "      <td>36953.0</td>\n",
       "      <td>44053.0</td>\n",
       "    </tr>\n",
       "    <tr>\n",
       "      <th>Greece</th>\n",
       "      <td>19345.0</td>\n",
       "      <td>25030.0</td>\n",
       "      <td>25430.0</td>\n",
       "    </tr>\n",
       "    <tr>\n",
       "      <th>Hungary</th>\n",
       "      <td>17103.0</td>\n",
       "      <td>17707.0</td>\n",
       "      <td>24200.0</td>\n",
       "    </tr>\n",
       "    <tr>\n",
       "      <th>Iceland</th>\n",
       "      <td>25997.0</td>\n",
       "      <td>33599.0</td>\n",
       "      <td>42182.0</td>\n",
       "    </tr>\n",
       "    <tr>\n",
       "      <th>Ireland</th>\n",
       "      <td>17606.0</td>\n",
       "      <td>41198.0</td>\n",
       "      <td>47758.0</td>\n",
       "    </tr>\n",
       "    <tr>\n",
       "      <th>Italy</th>\n",
       "      <td>25646.0</td>\n",
       "      <td>36073.0</td>\n",
       "      <td>33297.0</td>\n",
       "    </tr>\n",
       "    <tr>\n",
       "      <th>Japan</th>\n",
       "      <td>23554.0</td>\n",
       "      <td>32193.0</td>\n",
       "      <td>36162.0</td>\n",
       "    </tr>\n",
       "    <tr>\n",
       "      <th>Luxembourg</th>\n",
       "      <td>40621.0</td>\n",
       "      <td>81425.0</td>\n",
       "      <td>88314.0</td>\n",
       "    </tr>\n",
       "    <tr>\n",
       "      <th>Mexico</th>\n",
       "      <td>12562.0</td>\n",
       "      <td>14704.0</td>\n",
       "      <td>16850.0</td>\n",
       "    </tr>\n",
       "    <tr>\n",
       "      <th>Netherlands</th>\n",
       "      <td>27544.0</td>\n",
       "      <td>41771.0</td>\n",
       "      <td>45784.0</td>\n",
       "    </tr>\n",
       "    <tr>\n",
       "      <th>New Zealand</th>\n",
       "      <td>23750.0</td>\n",
       "      <td>27963.0</td>\n",
       "      <td>34186.0</td>\n",
       "    </tr>\n",
       "    <tr>\n",
       "      <th>Norway</th>\n",
       "      <td>40031.0</td>\n",
       "      <td>58699.0</td>\n",
       "      <td>64304.0</td>\n",
       "    </tr>\n",
       "    <tr>\n",
       "      <th>Poland</th>\n",
       "      <td>11159.0</td>\n",
       "      <td>14565.0</td>\n",
       "      <td>24787.0</td>\n",
       "    </tr>\n",
       "    <tr>\n",
       "      <th>Portugal</th>\n",
       "      <td>15533.0</td>\n",
       "      <td>26147.0</td>\n",
       "      <td>26437.0</td>\n",
       "    </tr>\n",
       "    <tr>\n",
       "      <th>South Korea</th>\n",
       "      <td>6970.0</td>\n",
       "      <td>20757.0</td>\n",
       "      <td>34644.0</td>\n",
       "    </tr>\n",
       "    <tr>\n",
       "      <th>Spain</th>\n",
       "      <td>19300.0</td>\n",
       "      <td>30647.0</td>\n",
       "      <td>32979.0</td>\n",
       "    </tr>\n",
       "    <tr>\n",
       "      <th>Sweden</th>\n",
       "      <td>28202.0</td>\n",
       "      <td>36816.0</td>\n",
       "      <td>44892.0</td>\n",
       "    </tr>\n",
       "    <tr>\n",
       "      <th>Switzerland</th>\n",
       "      <td>42462.0</td>\n",
       "      <td>49083.0</td>\n",
       "      <td>56118.0</td>\n",
       "    </tr>\n",
       "    <tr>\n",
       "      <th>Turkey</th>\n",
       "      <td>9163.0</td>\n",
       "      <td>13025.0</td>\n",
       "      <td>19360.0</td>\n",
       "    </tr>\n",
       "    <tr>\n",
       "      <th>United Kingdom</th>\n",
       "      <td>22648.0</td>\n",
       "      <td>32543.0</td>\n",
       "      <td>38225.0</td>\n",
       "    </tr>\n",
       "    <tr>\n",
       "      <th>United States</th>\n",
       "      <td>33065.0</td>\n",
       "      <td>45986.0</td>\n",
       "      <td>53354.0</td>\n",
       "    </tr>\n",
       "  </tbody>\n",
       "</table>\n",
       "</div>"
      ],
      "text/plain": [
       "                   1985     2000     2015\n",
       "Australia       25875.0  35253.0  44056.0\n",
       "Austria         27100.0  38548.0  44401.0\n",
       "Belgium         26792.0  37404.0  41240.0\n",
       "Canada          29016.0  37314.0  43294.0\n",
       "Czech Republic  19492.0  21003.0  29437.0\n",
       "Denmark         31032.0  41693.0  43495.0\n",
       "Finland         24630.0  34517.0  38923.0\n",
       "France          25917.0  34774.0  37599.0\n",
       "Germany         29851.0  36953.0  44053.0\n",
       "Greece          19345.0  25030.0  25430.0\n",
       "Hungary         17103.0  17707.0  24200.0\n",
       "Iceland         25997.0  33599.0  42182.0\n",
       "Ireland         17606.0  41198.0  47758.0\n",
       "Italy           25646.0  36073.0  33297.0\n",
       "Japan           23554.0  32193.0  36162.0\n",
       "Luxembourg      40621.0  81425.0  88314.0\n",
       "Mexico          12562.0  14704.0  16850.0\n",
       "Netherlands     27544.0  41771.0  45784.0\n",
       "New Zealand     23750.0  27963.0  34186.0\n",
       "Norway          40031.0  58699.0  64304.0\n",
       "Poland          11159.0  14565.0  24787.0\n",
       "Portugal        15533.0  26147.0  26437.0\n",
       "South Korea      6970.0  20757.0  34644.0\n",
       "Spain           19300.0  30647.0  32979.0\n",
       "Sweden          28202.0  36816.0  44892.0\n",
       "Switzerland     42462.0  49083.0  56118.0\n",
       "Turkey           9163.0  13025.0  19360.0\n",
       "United Kingdom  22648.0  32543.0  38225.0\n",
       "United States   33065.0  45986.0  53354.0"
      ]
     },
     "execution_count": 17,
     "metadata": {},
     "output_type": "execute_result"
    }
   ],
   "source": [
    "GDP_1985 = GDP.loc[:, [\"GDP per capita\", 1985]]\n",
    "GDP_2000 = GDP.loc[:, [\"GDP per capita\", 2000]]\n",
    "GDP_2015 = GDP.loc[:, [\"GDP per capita\", 2015]]\n",
    "\n",
    "GDP_1985_idx = GDP_1985.set_index('GDP per capita')\n",
    "GDP_2000_idx = GDP_2000.set_index('GDP per capita')\n",
    "GDP_2015_idx = GDP_2015.set_index('GDP per capita')\n",
    "paises_OCDE_idx = paises_OCDE.set_index('Country')\n",
    "\n",
    "paises_1985_GDP = paises_OCDE_idx.join(GDP_1985_idx, how='inner')\n",
    "paises_2000_GDP = paises_1985_GDP.join(GDP_2000_idx, how='inner')\n",
    "Evolution_GDP0 = paises_2000_GDP.join(GDP_2015_idx, how='inner')\n",
    "\n",
    "print('Construção da tabela \"Evolution_GDP0\" pronta:')\n",
    "Evolution_GDP0"
   ]
  },
  {
   "cell_type": "markdown",
   "metadata": {},
   "source": [
    "## Evolução de GDPcapita - países não membros"
   ]
  },
  {
   "cell_type": "code",
   "execution_count": 18,
   "metadata": {},
   "outputs": [
    {
     "name": "stdout",
     "output_type": "stream",
     "text": [
      "Construção da tabela \"Evolution_GDP1\" pronta:\n"
     ]
    },
    {
     "data": {
      "text/html": [
       "<div>\n",
       "<style scoped>\n",
       "    .dataframe tbody tr th:only-of-type {\n",
       "        vertical-align: middle;\n",
       "    }\n",
       "\n",
       "    .dataframe tbody tr th {\n",
       "        vertical-align: top;\n",
       "    }\n",
       "\n",
       "    .dataframe thead th {\n",
       "        text-align: right;\n",
       "    }\n",
       "</style>\n",
       "<table border=\"1\" class=\"dataframe\">\n",
       "  <thead>\n",
       "    <tr style=\"text-align: right;\">\n",
       "      <th></th>\n",
       "      <th>1985</th>\n",
       "      <th>2000</th>\n",
       "      <th>2015</th>\n",
       "    </tr>\n",
       "  </thead>\n",
       "  <tbody>\n",
       "    <tr>\n",
       "      <th>Afghanistan</th>\n",
       "      <td>1384.0</td>\n",
       "      <td>962.0</td>\n",
       "      <td>1925.0</td>\n",
       "    </tr>\n",
       "    <tr>\n",
       "      <th>Argentina</th>\n",
       "      <td>9262.0</td>\n",
       "      <td>11504.0</td>\n",
       "      <td>17344.0</td>\n",
       "    </tr>\n",
       "    <tr>\n",
       "      <th>Bahrain</th>\n",
       "      <td>32131.0</td>\n",
       "      <td>45063.0</td>\n",
       "      <td>44138.0</td>\n",
       "    </tr>\n",
       "    <tr>\n",
       "      <th>Bolivia</th>\n",
       "      <td>3706.0</td>\n",
       "      <td>4330.0</td>\n",
       "      <td>6295.0</td>\n",
       "    </tr>\n",
       "    <tr>\n",
       "      <th>Brazil</th>\n",
       "      <td>10495.0</td>\n",
       "      <td>11461.0</td>\n",
       "      <td>15441.0</td>\n",
       "    </tr>\n",
       "    <tr>\n",
       "      <th>China</th>\n",
       "      <td>1557.0</td>\n",
       "      <td>3678.0</td>\n",
       "      <td>13334.0</td>\n",
       "    </tr>\n",
       "    <tr>\n",
       "      <th>Colombia</th>\n",
       "      <td>6613.0</td>\n",
       "      <td>8414.0</td>\n",
       "      <td>12761.0</td>\n",
       "    </tr>\n",
       "    <tr>\n",
       "      <th>Congo, Rep.</th>\n",
       "      <td>6166.0</td>\n",
       "      <td>4623.0</td>\n",
       "      <td>6220.0</td>\n",
       "    </tr>\n",
       "    <tr>\n",
       "      <th>Croatia</th>\n",
       "      <td>19711.0</td>\n",
       "      <td>15644.0</td>\n",
       "      <td>20260.0</td>\n",
       "    </tr>\n",
       "    <tr>\n",
       "      <th>Cuba</th>\n",
       "      <td>14135.0</td>\n",
       "      <td>11268.0</td>\n",
       "      <td>21291.0</td>\n",
       "    </tr>\n",
       "    <tr>\n",
       "      <th>Ecuador</th>\n",
       "      <td>7880.0</td>\n",
       "      <td>7444.0</td>\n",
       "      <td>10996.0</td>\n",
       "    </tr>\n",
       "    <tr>\n",
       "      <th>Egypt</th>\n",
       "      <td>5539.0</td>\n",
       "      <td>7807.0</td>\n",
       "      <td>11031.0</td>\n",
       "    </tr>\n",
       "    <tr>\n",
       "      <th>Guatemala</th>\n",
       "      <td>5345.0</td>\n",
       "      <td>6313.0</td>\n",
       "      <td>7279.0</td>\n",
       "    </tr>\n",
       "    <tr>\n",
       "      <th>India</th>\n",
       "      <td>1462.0</td>\n",
       "      <td>2548.0</td>\n",
       "      <td>5903.0</td>\n",
       "    </tr>\n",
       "    <tr>\n",
       "      <th>Indonesia</th>\n",
       "      <td>3489.0</td>\n",
       "      <td>5878.0</td>\n",
       "      <td>10504.0</td>\n",
       "    </tr>\n",
       "    <tr>\n",
       "      <th>Iraq</th>\n",
       "      <td>10711.0</td>\n",
       "      <td>11764.0</td>\n",
       "      <td>14646.0</td>\n",
       "    </tr>\n",
       "    <tr>\n",
       "      <th>Kuwait</th>\n",
       "      <td>58143.0</td>\n",
       "      <td>75219.0</td>\n",
       "      <td>82633.0</td>\n",
       "    </tr>\n",
       "    <tr>\n",
       "      <th>Nigeria</th>\n",
       "      <td>3258.0</td>\n",
       "      <td>2836.0</td>\n",
       "      <td>5727.0</td>\n",
       "    </tr>\n",
       "    <tr>\n",
       "      <th>Oman</th>\n",
       "      <td>34967.0</td>\n",
       "      <td>45472.0</td>\n",
       "      <td>48226.0</td>\n",
       "    </tr>\n",
       "    <tr>\n",
       "      <th>Pakistan</th>\n",
       "      <td>2603.0</td>\n",
       "      <td>3366.0</td>\n",
       "      <td>4743.0</td>\n",
       "    </tr>\n",
       "    <tr>\n",
       "      <th>Peru</th>\n",
       "      <td>6432.0</td>\n",
       "      <td>6485.0</td>\n",
       "      <td>11903.0</td>\n",
       "    </tr>\n",
       "    <tr>\n",
       "      <th>Philippines</th>\n",
       "      <td>3559.0</td>\n",
       "      <td>4243.0</td>\n",
       "      <td>6876.0</td>\n",
       "    </tr>\n",
       "    <tr>\n",
       "      <th>Qatar</th>\n",
       "      <td>76910.0</td>\n",
       "      <td>112238.0</td>\n",
       "      <td>132877.0</td>\n",
       "    </tr>\n",
       "    <tr>\n",
       "      <th>Russia</th>\n",
       "      <td>18576.0</td>\n",
       "      <td>13173.0</td>\n",
       "      <td>23038.0</td>\n",
       "    </tr>\n",
       "    <tr>\n",
       "      <th>Singapore</th>\n",
       "      <td>25245.0</td>\n",
       "      <td>51663.0</td>\n",
       "      <td>80794.0</td>\n",
       "    </tr>\n",
       "    <tr>\n",
       "      <th>South Africa</th>\n",
       "      <td>10699.0</td>\n",
       "      <td>9927.0</td>\n",
       "      <td>12509.0</td>\n",
       "    </tr>\n",
       "    <tr>\n",
       "      <th>Thailand</th>\n",
       "      <td>4191.0</td>\n",
       "      <td>8939.0</td>\n",
       "      <td>14512.0</td>\n",
       "    </tr>\n",
       "    <tr>\n",
       "      <th>United Arab Emirates</th>\n",
       "      <td>129469.0</td>\n",
       "      <td>108048.0</td>\n",
       "      <td>60749.0</td>\n",
       "    </tr>\n",
       "    <tr>\n",
       "      <th>Venezuela</th>\n",
       "      <td>13874.0</td>\n",
       "      <td>14461.0</td>\n",
       "      <td>15753.0</td>\n",
       "    </tr>\n",
       "  </tbody>\n",
       "</table>\n",
       "</div>"
      ],
      "text/plain": [
       "                          1985      2000      2015\n",
       "Afghanistan             1384.0     962.0    1925.0\n",
       "Argentina               9262.0   11504.0   17344.0\n",
       "Bahrain                32131.0   45063.0   44138.0\n",
       "Bolivia                 3706.0    4330.0    6295.0\n",
       "Brazil                 10495.0   11461.0   15441.0\n",
       "China                   1557.0    3678.0   13334.0\n",
       "Colombia                6613.0    8414.0   12761.0\n",
       "Congo, Rep.             6166.0    4623.0    6220.0\n",
       "Croatia                19711.0   15644.0   20260.0\n",
       "Cuba                   14135.0   11268.0   21291.0\n",
       "Ecuador                 7880.0    7444.0   10996.0\n",
       "Egypt                   5539.0    7807.0   11031.0\n",
       "Guatemala               5345.0    6313.0    7279.0\n",
       "India                   1462.0    2548.0    5903.0\n",
       "Indonesia               3489.0    5878.0   10504.0\n",
       "Iraq                   10711.0   11764.0   14646.0\n",
       "Kuwait                 58143.0   75219.0   82633.0\n",
       "Nigeria                 3258.0    2836.0    5727.0\n",
       "Oman                   34967.0   45472.0   48226.0\n",
       "Pakistan                2603.0    3366.0    4743.0\n",
       "Peru                    6432.0    6485.0   11903.0\n",
       "Philippines             3559.0    4243.0    6876.0\n",
       "Qatar                  76910.0  112238.0  132877.0\n",
       "Russia                 18576.0   13173.0   23038.0\n",
       "Singapore              25245.0   51663.0   80794.0\n",
       "South Africa           10699.0    9927.0   12509.0\n",
       "Thailand                4191.0    8939.0   14512.0\n",
       "United Arab Emirates  129469.0  108048.0   60749.0\n",
       "Venezuela              13874.0   14461.0   15753.0"
      ]
     },
     "execution_count": 18,
     "metadata": {},
     "output_type": "execute_result"
    }
   ],
   "source": [
    "GDP_1985_outros = GDP.loc[:, [\"GDP per capita\", 1985]]\n",
    "GDP_2000_outros = GDP.loc[:, [\"GDP per capita\", 2000]]\n",
    "GDP_2015_outros = GDP.loc[:, [\"GDP per capita\", 2015]]\n",
    "\n",
    "GDP_1985_idx_outros = GDP_1985.set_index('GDP per capita')\n",
    "GDP_2000_idx_outros = GDP_2000.set_index('GDP per capita')\n",
    "GDP_2015_idx_outros = GDP_2015.set_index('GDP per capita')\n",
    "paises_outros_idx = paises_outros.set_index('Country')\n",
    "\n",
    "paises_1985_GDP_outros = paises_outros_idx.join(GDP_1985_idx, how='inner')\n",
    "paises_2000_GDP_outros = paises_1985_GDP_outros.join(GDP_2000_idx, how='inner')\n",
    "Evolution_GDP1 = paises_2000_GDP_outros.join(GDP_2015_idx, how='inner')\n",
    "\n",
    "print('Construção da tabela \"Evolution_GDP1\" pronta:')\n",
    "Evolution_GDP1"
   ]
  },
  {
   "cell_type": "code",
   "execution_count": 19,
   "metadata": {},
   "outputs": [
    {
     "data": {
      "text/html": [
       "<div>\n",
       "<style scoped>\n",
       "    .dataframe tbody tr th:only-of-type {\n",
       "        vertical-align: middle;\n",
       "    }\n",
       "\n",
       "    .dataframe tbody tr th {\n",
       "        vertical-align: top;\n",
       "    }\n",
       "\n",
       "    .dataframe thead th {\n",
       "        text-align: right;\n",
       "    }\n",
       "</style>\n",
       "<table border=\"1\" class=\"dataframe\">\n",
       "  <thead>\n",
       "    <tr style=\"text-align: right;\">\n",
       "      <th></th>\n",
       "      <th>GDPcapita</th>\n",
       "      <th>Employment</th>\n",
       "      <th>Life_expectancy</th>\n",
       "      <th>Gini_coefficient</th>\n",
       "      <th>OCDE</th>\n",
       "    </tr>\n",
       "  </thead>\n",
       "  <tbody>\n",
       "    <tr>\n",
       "      <th>count</th>\n",
       "      <td>58.000000</td>\n",
       "      <td>58.000000</td>\n",
       "      <td>58.000000</td>\n",
       "      <td>58.000000</td>\n",
       "      <td>58.000000</td>\n",
       "    </tr>\n",
       "    <tr>\n",
       "      <th>mean</th>\n",
       "      <td>32335.672414</td>\n",
       "      <td>58.177586</td>\n",
       "      <td>77.115517</td>\n",
       "      <td>37.098276</td>\n",
       "      <td>0.500000</td>\n",
       "    </tr>\n",
       "    <tr>\n",
       "      <th>std</th>\n",
       "      <td>24408.297967</td>\n",
       "      <td>9.555967</td>\n",
       "      <td>5.981369</td>\n",
       "      <td>7.531047</td>\n",
       "      <td>0.504367</td>\n",
       "    </tr>\n",
       "    <tr>\n",
       "      <th>min</th>\n",
       "      <td>1925.000000</td>\n",
       "      <td>39.900000</td>\n",
       "      <td>57.900000</td>\n",
       "      <td>26.000000</td>\n",
       "      <td>0.000000</td>\n",
       "    </tr>\n",
       "    <tr>\n",
       "      <th>25%</th>\n",
       "      <td>13628.500000</td>\n",
       "      <td>52.175000</td>\n",
       "      <td>75.550000</td>\n",
       "      <td>31.625000</td>\n",
       "      <td>0.000000</td>\n",
       "    </tr>\n",
       "    <tr>\n",
       "      <th>50%</th>\n",
       "      <td>27937.000000</td>\n",
       "      <td>58.700000</td>\n",
       "      <td>78.900000</td>\n",
       "      <td>35.850000</td>\n",
       "      <td>0.500000</td>\n",
       "    </tr>\n",
       "    <tr>\n",
       "      <th>75%</th>\n",
       "      <td>44055.250000</td>\n",
       "      <td>63.875000</td>\n",
       "      <td>81.475000</td>\n",
       "      <td>41.525000</td>\n",
       "      <td>1.000000</td>\n",
       "    </tr>\n",
       "    <tr>\n",
       "      <th>max</th>\n",
       "      <td>132877.000000</td>\n",
       "      <td>87.400000</td>\n",
       "      <td>83.800000</td>\n",
       "      <td>63.100000</td>\n",
       "      <td>1.000000</td>\n",
       "    </tr>\n",
       "  </tbody>\n",
       "</table>\n",
       "</div>"
      ],
      "text/plain": [
       "           GDPcapita  Employment  Life_expectancy  Gini_coefficient       OCDE\n",
       "count      58.000000   58.000000        58.000000         58.000000  58.000000\n",
       "mean    32335.672414   58.177586        77.115517         37.098276   0.500000\n",
       "std     24408.297967    9.555967         5.981369          7.531047   0.504367\n",
       "min      1925.000000   39.900000        57.900000         26.000000   0.000000\n",
       "25%     13628.500000   52.175000        75.550000         31.625000   0.000000\n",
       "50%     27937.000000   58.700000        78.900000         35.850000   0.500000\n",
       "75%     44055.250000   63.875000        81.475000         41.525000   1.000000\n",
       "max    132877.000000   87.400000        83.800000         63.100000   1.000000"
      ]
     },
     "execution_count": 19,
     "metadata": {},
     "output_type": "execute_result"
    }
   ],
   "source": [
    "Comparacao.describe()"
   ]
  },
  {
   "cell_type": "code",
   "execution_count": 20,
   "metadata": {},
   "outputs": [
    {
     "data": {
      "text/html": [
       "<div>\n",
       "<style scoped>\n",
       "    .dataframe tbody tr th:only-of-type {\n",
       "        vertical-align: middle;\n",
       "    }\n",
       "\n",
       "    .dataframe tbody tr th {\n",
       "        vertical-align: top;\n",
       "    }\n",
       "\n",
       "    .dataframe thead th {\n",
       "        text-align: right;\n",
       "    }\n",
       "</style>\n",
       "<table border=\"1\" class=\"dataframe\">\n",
       "  <thead>\n",
       "    <tr style=\"text-align: right;\">\n",
       "      <th></th>\n",
       "      <th>1985</th>\n",
       "      <th>2000</th>\n",
       "      <th>2015</th>\n",
       "    </tr>\n",
       "  </thead>\n",
       "  <tbody>\n",
       "    <tr>\n",
       "      <th>count</th>\n",
       "      <td>29.000000</td>\n",
       "      <td>29.000000</td>\n",
       "      <td>29.000000</td>\n",
       "    </tr>\n",
       "    <tr>\n",
       "      <th>mean</th>\n",
       "      <td>24205.724138</td>\n",
       "      <td>34392.758621</td>\n",
       "      <td>39853.827586</td>\n",
       "    </tr>\n",
       "    <tr>\n",
       "      <th>std</th>\n",
       "      <td>8778.997018</td>\n",
       "      <td>13962.976974</td>\n",
       "      <td>14260.277409</td>\n",
       "    </tr>\n",
       "    <tr>\n",
       "      <th>min</th>\n",
       "      <td>6970.000000</td>\n",
       "      <td>13025.000000</td>\n",
       "      <td>16850.000000</td>\n",
       "    </tr>\n",
       "    <tr>\n",
       "      <th>25%</th>\n",
       "      <td>19300.000000</td>\n",
       "      <td>26147.000000</td>\n",
       "      <td>32979.000000</td>\n",
       "    </tr>\n",
       "    <tr>\n",
       "      <th>50%</th>\n",
       "      <td>25646.000000</td>\n",
       "      <td>34774.000000</td>\n",
       "      <td>38923.000000</td>\n",
       "    </tr>\n",
       "    <tr>\n",
       "      <th>75%</th>\n",
       "      <td>28202.000000</td>\n",
       "      <td>38548.000000</td>\n",
       "      <td>44401.000000</td>\n",
       "    </tr>\n",
       "    <tr>\n",
       "      <th>max</th>\n",
       "      <td>42462.000000</td>\n",
       "      <td>81425.000000</td>\n",
       "      <td>88314.000000</td>\n",
       "    </tr>\n",
       "  </tbody>\n",
       "</table>\n",
       "</div>"
      ],
      "text/plain": [
       "               1985          2000          2015\n",
       "count     29.000000     29.000000     29.000000\n",
       "mean   24205.724138  34392.758621  39853.827586\n",
       "std     8778.997018  13962.976974  14260.277409\n",
       "min     6970.000000  13025.000000  16850.000000\n",
       "25%    19300.000000  26147.000000  32979.000000\n",
       "50%    25646.000000  34774.000000  38923.000000\n",
       "75%    28202.000000  38548.000000  44401.000000\n",
       "max    42462.000000  81425.000000  88314.000000"
      ]
     },
     "execution_count": 20,
     "metadata": {},
     "output_type": "execute_result"
    }
   ],
   "source": [
    "Evolution_GDP0.describe()"
   ]
  },
  {
   "cell_type": "code",
   "execution_count": 21,
   "metadata": {},
   "outputs": [
    {
     "data": {
      "text/html": [
       "<div>\n",
       "<style scoped>\n",
       "    .dataframe tbody tr th:only-of-type {\n",
       "        vertical-align: middle;\n",
       "    }\n",
       "\n",
       "    .dataframe tbody tr th {\n",
       "        vertical-align: top;\n",
       "    }\n",
       "\n",
       "    .dataframe thead th {\n",
       "        text-align: right;\n",
       "    }\n",
       "</style>\n",
       "<table border=\"1\" class=\"dataframe\">\n",
       "  <thead>\n",
       "    <tr style=\"text-align: right;\">\n",
       "      <th></th>\n",
       "      <th>1985</th>\n",
       "      <th>2000</th>\n",
       "      <th>2015</th>\n",
       "    </tr>\n",
       "  </thead>\n",
       "  <tbody>\n",
       "    <tr>\n",
       "      <th>count</th>\n",
       "      <td>29.000000</td>\n",
       "      <td>29.000000</td>\n",
       "      <td>29.000000</td>\n",
       "    </tr>\n",
       "    <tr>\n",
       "      <th>mean</th>\n",
       "      <td>18190.068966</td>\n",
       "      <td>21199.000000</td>\n",
       "      <td>24817.517241</td>\n",
       "    </tr>\n",
       "    <tr>\n",
       "      <th>std</th>\n",
       "      <td>27535.933698</td>\n",
       "      <td>30119.701263</td>\n",
       "      <td>29872.548974</td>\n",
       "    </tr>\n",
       "    <tr>\n",
       "      <th>min</th>\n",
       "      <td>1384.000000</td>\n",
       "      <td>962.000000</td>\n",
       "      <td>1925.000000</td>\n",
       "    </tr>\n",
       "    <tr>\n",
       "      <th>25%</th>\n",
       "      <td>3706.000000</td>\n",
       "      <td>4623.000000</td>\n",
       "      <td>7279.000000</td>\n",
       "    </tr>\n",
       "    <tr>\n",
       "      <th>50%</th>\n",
       "      <td>7880.000000</td>\n",
       "      <td>8939.000000</td>\n",
       "      <td>13334.000000</td>\n",
       "    </tr>\n",
       "    <tr>\n",
       "      <th>75%</th>\n",
       "      <td>18576.000000</td>\n",
       "      <td>14461.000000</td>\n",
       "      <td>21291.000000</td>\n",
       "    </tr>\n",
       "    <tr>\n",
       "      <th>max</th>\n",
       "      <td>129469.000000</td>\n",
       "      <td>112238.000000</td>\n",
       "      <td>132877.000000</td>\n",
       "    </tr>\n",
       "  </tbody>\n",
       "</table>\n",
       "</div>"
      ],
      "text/plain": [
       "                1985           2000           2015\n",
       "count      29.000000      29.000000      29.000000\n",
       "mean    18190.068966   21199.000000   24817.517241\n",
       "std     27535.933698   30119.701263   29872.548974\n",
       "min      1384.000000     962.000000    1925.000000\n",
       "25%      3706.000000    4623.000000    7279.000000\n",
       "50%      7880.000000    8939.000000   13334.000000\n",
       "75%     18576.000000   14461.000000   21291.000000\n",
       "max    129469.000000  112238.000000  132877.000000"
      ]
     },
     "execution_count": 21,
     "metadata": {},
     "output_type": "execute_result"
    }
   ],
   "source": [
    "Evolution_GDP1.describe()"
   ]
  },
  {
   "cell_type": "code",
   "execution_count": 22,
   "metadata": {},
   "outputs": [
    {
     "data": {
      "text/html": [
       "<div>\n",
       "<style scoped>\n",
       "    .dataframe tbody tr th:only-of-type {\n",
       "        vertical-align: middle;\n",
       "    }\n",
       "\n",
       "    .dataframe tbody tr th {\n",
       "        vertical-align: top;\n",
       "    }\n",
       "\n",
       "    .dataframe thead th {\n",
       "        text-align: right;\n",
       "    }\n",
       "</style>\n",
       "<table border=\"1\" class=\"dataframe\">\n",
       "  <thead>\n",
       "    <tr style=\"text-align: right;\">\n",
       "      <th></th>\n",
       "      <th>1985</th>\n",
       "      <th>2000</th>\n",
       "      <th>2015</th>\n",
       "    </tr>\n",
       "  </thead>\n",
       "  <tbody>\n",
       "    <tr>\n",
       "      <th>count</th>\n",
       "      <td>29.000000</td>\n",
       "      <td>29.000000</td>\n",
       "      <td>29.000000</td>\n",
       "    </tr>\n",
       "    <tr>\n",
       "      <th>mean</th>\n",
       "      <td>74.189655</td>\n",
       "      <td>77.637931</td>\n",
       "      <td>80.906897</td>\n",
       "    </tr>\n",
       "    <tr>\n",
       "      <th>std</th>\n",
       "      <td>2.677598</td>\n",
       "      <td>2.139495</td>\n",
       "      <td>1.919623</td>\n",
       "    </tr>\n",
       "    <tr>\n",
       "      <th>min</th>\n",
       "      <td>68.000000</td>\n",
       "      <td>71.800000</td>\n",
       "      <td>75.700000</td>\n",
       "    </tr>\n",
       "    <tr>\n",
       "      <th>25%</th>\n",
       "      <td>73.800000</td>\n",
       "      <td>76.700000</td>\n",
       "      <td>80.800000</td>\n",
       "    </tr>\n",
       "    <tr>\n",
       "      <th>50%</th>\n",
       "      <td>74.600000</td>\n",
       "      <td>78.100000</td>\n",
       "      <td>81.400000</td>\n",
       "    </tr>\n",
       "    <tr>\n",
       "      <th>75%</th>\n",
       "      <td>76.200000</td>\n",
       "      <td>79.200000</td>\n",
       "      <td>82.100000</td>\n",
       "    </tr>\n",
       "    <tr>\n",
       "      <th>max</th>\n",
       "      <td>77.700000</td>\n",
       "      <td>81.000000</td>\n",
       "      <td>83.800000</td>\n",
       "    </tr>\n",
       "  </tbody>\n",
       "</table>\n",
       "</div>"
      ],
      "text/plain": [
       "            1985       2000       2015\n",
       "count  29.000000  29.000000  29.000000\n",
       "mean   74.189655  77.637931  80.906897\n",
       "std     2.677598   2.139495   1.919623\n",
       "min    68.000000  71.800000  75.700000\n",
       "25%    73.800000  76.700000  80.800000\n",
       "50%    74.600000  78.100000  81.400000\n",
       "75%    76.200000  79.200000  82.100000\n",
       "max    77.700000  81.000000  83.800000"
      ]
     },
     "execution_count": 22,
     "metadata": {},
     "output_type": "execute_result"
    }
   ],
   "source": [
    "Evolution_Life0.describe()"
   ]
  },
  {
   "cell_type": "code",
   "execution_count": null,
   "metadata": {},
   "outputs": [],
   "source": []
  },
  {
   "cell_type": "markdown",
   "metadata": {},
   "source": [
    "# Início das análises"
   ]
  },
  {
   "cell_type": "markdown",
   "metadata": {},
   "source": [
    "## Comparação - GDP"
   ]
  },
  {
   "cell_type": "code",
   "execution_count": 40,
   "metadata": {},
   "outputs": [
    {
     "data": {
      "image/png": "[encoded data removed]",
      "text/plain": [
       "<Figure size 432x288 with 1 Axes>"
      ]
     },
     "metadata": {
      "needs_background": "light"
     },
     "output_type": "display_data"
    },
    {
     "data": {
      "image/png": "[encoded data removed]",
      "text/plain": [
       "<Figure size 432x288 with 1 Axes>"
      ]
     },
     "metadata": {
      "needs_background": "light"
     },
     "output_type": "display_data"
    },
    {
     "data": {
      "image/png": "[encoded data removed]",
      "text/plain": [
       "<Figure size 432x288 with 1 Axes>"
      ]
     },
     "metadata": {
      "needs_background": "light"
     },
     "output_type": "display_data"
    }
   ],
   "source": [
    "def verticaline(plot, x, y, color, nome):\n",
    "    plot.axvline(x, color = color, linestyle = \"dashed\", linewidth = 3)\n",
    "    plot.text(x, y, nome + \": ≈\" + str(x)[:5], color = color)\n",
    "    plot.grid()\n",
    "    \n",
    "\n",
    "verticaline(Comparacao.loc[Comparacao.OCDE==0].GDPcapita.plot.hist(color='lightcoral', title='GDPcapita - OCDE'), Comparacao.loc[Comparacao.OCDE==0].GDPcapita.mean(), 8 ,'lawngreen',\" Média\")\n",
    "verticaline(Comparacao.loc[Comparacao.OCDE==0].GDPcapita.plot.hist(color='lightcoral', title='GDPcapita - OCDE'), Comparacao.loc[Comparacao.OCDE==0].GDPcapita.median(), 4 ,'b',\" Mediana\")\n",
    "plt.show()\n",
    "\n",
    "\n",
    "verticaline(Comparacao.loc[Comparacao.OCDE==1].GDPcapita.plot.hist(color = 'darkred', title = 'GDPcapita - outros'), Comparacao.loc[Comparacao.OCDE==1].GDPcapita.mean(), 8 ,'lawngreen',\" Média\")\n",
    "verticaline(Comparacao.loc[Comparacao.OCDE==1].GDPcapita.plot.hist(color = 'darkred', title='GDPcapita - outros'), Comparacao.loc[Comparacao.OCDE==1].GDPcapita.median(), 4 ,'b',\" Mediana\")\n",
    "plt.show()\n",
    "\n",
    "\n",
    "plot = Comparacao.loc[Comparacao.OCDE==0].GDPcapita.plot.hist(color= 'lightcoral' ,title='GDPcapita - juntos')\n",
    "plot = Comparacao.loc[Comparacao.OCDE==1].GDPcapita.plot.hist(color = 'darkred', title='GDPcapita - juntos', alpha=0.5)\n",
    "plt.grid()\n",
    "plt.show()"
   ]
  },
  {
   "cell_type": "markdown",
   "metadata": {},
   "source": [
    "**Comentários/Conclusão**"
   ]
  },
  {
   "cell_type": "markdown",
   "metadata": {},
   "source": [
    "Analisando o primeiro gráfico, percebe-se que a mediana e a média têm valores bastante próximos, tornando o gráfico simétrico, ou seja, os países membros da OCDE compõem uma concentração de GDPcapita melhor distribuída entre eles do que dos países não participantes da organização, que ficou dispersa. Tal informação pode ser observada no segundo gráfico, onde a mediana se mostra significativamente menor do que a média, compondo um gráfico assimétrico à direita. Ambos os gráficos são assimétricos à direita, mas o primeiro está mais próximo da simetria.\n",
    "\n",
    "Plotando um terceiro gráfico juntando os anteriores, é possível observar melhor a diversidade de valores GDPcapita que os países não membros possuem. E, sobre a hipótese da GDPcapita ser maior do que dos países não membros, pode-se concluir que, mesmo com o fato de haver países com maior GDPcapita fora da OCDE, eles fazem parte de uma parcela muito menor que o total e a maior parcela ainda constitui a área do gráfico abaixo do valor médio de GDP, enquanto dentro da OCDE, há uma maior garantia de crescimento em conjunto da GDPcapita"
   ]
  },
  {
   "cell_type": "markdown",
   "metadata": {},
   "source": [
    "## Comparação - Employment"
   ]
  },
  {
   "cell_type": "code",
   "execution_count": 41,
   "metadata": {},
   "outputs": [
    {
     "data": {
      "image/png": "[encoded data removed]",
      "text/plain": [
       "<Figure size 432x288 with 1 Axes>"
      ]
     },
     "metadata": {
      "needs_background": "light"
     },
     "output_type": "display_data"
    },
    {
     "data": {
      "image/png": "[encoded data removed]",
      "text/plain": [
       "<Figure size 432x288 with 1 Axes>"
      ]
     },
     "metadata": {
      "needs_background": "light"
     },
     "output_type": "display_data"
    }
   ],
   "source": [
    "def verticalline(plot, x, y, color, nome):\n",
    "    plot.axvline(x, color = color, linestyle = \"dashed\", linewidth = 3)\n",
    "    plot.text(x, y, nome + \": ≈\" + str(x)[:5], color = color)\n",
    "    plot.grid()\n",
    "\n",
    "    \n",
    "verticalline(Comparacao.loc[Comparacao.OCDE==0].Employment.plot.hist(color='lightcoral', title='Employment - OCDE'), Comparacao.loc[Comparacao.OCDE==0].Employment.mean(), 8 ,'teal',\" Média\")\n",
    "verticaline(Comparacao.loc[Comparacao.OCDE==0].Employment.plot.hist(color='lightcoral', title='Employment - OCDE'), Comparacao.loc[Comparacao.OCDE==0].Employment.median(), 4 ,'b',\" Mediana\")\n",
    "plt.show()\n",
    "\n",
    "verticalline(Comparacao.loc[Comparacao.OCDE==1].Employment.plot.hist(color = 'darkred', title='Employment - outros'), Comparacao.loc[Comparacao.OCDE==1].Employment.mean(), 6 ,'teal',\" Média\")\n",
    "verticaline(Comparacao.loc[Comparacao.OCDE==1].Employment.plot.hist(color = 'darkred', title='Employment - outros'), Comparacao.loc[Comparacao.OCDE==1].Employment.median(), 4 ,'b',\" Mediana\")\n",
    "plt.show()"
   ]
  },
  {
   "cell_type": "markdown",
   "metadata": {},
   "source": [
    "**Comentários/Conclusão**"
   ]
  },
  {
   "cell_type": "markdown",
   "metadata": {},
   "source": [
    "Analisando o primeiro gráfico - dos países membros da OCDE -, percebe-se de início que ele é assimétrico à esquerda e, o segundo gráfico - pertencentes aos países não membros -, é quase simétrico. Entretanto, não se conclui que o primeiro tem maior taxa de emprego, pois a média e mediana são maiores nos países não membros. Para se ter uma melhor ideia sobre qual dos grupos está em maior vantagem neste tópico, foi feita uma comparação em faixas."
   ]
  },
  {
   "cell_type": "markdown",
   "metadata": {},
   "source": [
    "## Comparação em faixas"
   ]
  },
  {
   "cell_type": "code",
   "execution_count": 42,
   "metadata": {},
   "outputs": [
    {
     "name": "stdout",
     "output_type": "stream",
     "text": [
      "Taxa de empregados dos países membros da OCDE:\n",
      "\n",
      "[39, 49)     5\n",
      "[49, 59)    15\n",
      "[59, 69)     8\n",
      "[69, 79)     1\n",
      "[79, 89)     0\n",
      "Name: exp_vida, dtype: int64\n",
      "\n",
      "\n",
      "\n",
      "Taxa de empregados dos países não membros da OCDE:\n",
      "\n",
      "[39, 49)     4\n",
      "[49, 59)     7\n",
      "[59, 69)    14\n",
      "[69, 79)     2\n",
      "[79, 89)     2\n",
      "Name: exp_vida, dtype: int64\n",
      "\n",
      "\n"
     ]
    }
   ],
   "source": [
    "print('Taxa de empregados dos países membros da OCDE:')\n",
    "print()\n",
    "\n",
    "faixa_employment = range(39,90,10)\n",
    "Comparacao['exp_vida'] = pd.cut(Comparacao.loc[Comparacao.OCDE==0].Employment, bins = faixa_employment, right = False)\n",
    "empregados_OCDE = Comparacao.exp_vida.value_counts(sort= False)\n",
    "\n",
    "print(empregados_OCDE)\n",
    "\n",
    "#-----------------------\n",
    "\n",
    "print()\n",
    "print()\n",
    "print()\n",
    "\n",
    "#-----------------------\n",
    "\n",
    "print('Taxa de empregados dos países não membros da OCDE:')\n",
    "print()\n",
    "\n",
    "faixa_employment = range(39,90,10)\n",
    "Comparacao['exp_vida'] = pd.cut(Comparacao.loc[Comparacao.OCDE==1].Employment, bins = faixa_employment, right = False)\n",
    "empregados_outros = Comparacao.exp_vida.value_counts(sort= False)\n",
    "\n",
    "print(empregados_outros)\n",
    "\n",
    "#----------------------\n",
    "\n",
    "print()\n",
    "print()"
   ]
  },
  {
   "cell_type": "markdown",
   "metadata": {},
   "source": [
    "**Comentários/Conclusão**"
   ]
  },
  {
   "cell_type": "markdown",
   "metadata": {},
   "source": [
    "Esta comparação possibilita a observação dos números exatos por meio de faixas, cada uma indicando um intervalo de porcentagem de empregados. Ao lado delas, há o número de países que compõem este intervalo. Assim, observa-se que os países da OCDE dominam uma faixa menor que a dominada pelos outros países, e, ainda, em questão da faixa mais alta - de 79% a 89% - nenhum país da organização se encontra nela, enquanto o grupo dos não membros apresentam 2 países nesta faixa.\n",
    "\n",
    "Logo, é possível afirmar que a maior taxa de empregos não está ligada às garantias da entrada na OCDE."
   ]
  },
  {
   "cell_type": "markdown",
   "metadata": {},
   "source": [
    "## Comparação - Gini coefficient"
   ]
  },
  {
   "cell_type": "code",
   "execution_count": 43,
   "metadata": {},
   "outputs": [
    {
     "data": {
      "image/png": "[encoded data removed]",
      "text/plain": [
       "<Figure size 432x288 with 1 Axes>"
      ]
     },
     "metadata": {
      "needs_background": "light"
     },
     "output_type": "display_data"
    },
    {
     "data": {
      "image/png": "[encoded data removed]",
      "text/plain": [
       "<Figure size 432x288 with 1 Axes>"
      ]
     },
     "metadata": {
      "needs_background": "light"
     },
     "output_type": "display_data"
    }
   ],
   "source": [
    "def verticalline(plot, x, y, color, nome):\n",
    "    plot.axvline(x, color = color, linestyle = \"dashed\", linewidth = 3)\n",
    "    plot.text(x, y, nome + \": ≈\" + str(x)[:5], color = color)    \n",
    "    plot.grid()\n",
    "\n",
    "\n",
    "verticalline(Comparacao.loc[Comparacao.OCDE==0].Gini_coefficient.plot.hist(color='lightcoral', title='Gini coefficient - OCDE'), Comparacao.loc[Comparacao.OCDE==0].Gini_coefficient.mean(), 6.5 ,'r',\" Média\")\n",
    "verticaline(Comparacao.loc[Comparacao.OCDE==0].Gini_coefficient.plot.hist(color='lightcoral', title='Gini coefficient - OCDE'), Comparacao.loc[Comparacao.OCDE==0].Gini_coefficient.median(), 4 ,'b',\" Mediana\")\n",
    "plt.show()\n",
    "\n",
    "verticalline(Comparacao.loc[Comparacao.OCDE==1].Gini_coefficient.plot.hist(color = 'darkred', title='Gini coefficient - outros'), Comparacao.loc[Comparacao.OCDE==1].Gini_coefficient.mean(), 6.5 ,'r',\" Média\")\n",
    "verticaline(Comparacao.loc[Comparacao.OCDE==1].Gini_coefficient.plot.hist(color = 'darkred', title='Gini coefficient - outros'), Comparacao.loc[Comparacao.OCDE==1].Gini_coefficient.median(), 4 ,'b',\" Mediana\")\n",
    "plt.show()\n"
   ]
  },
  {
   "cell_type": "markdown",
   "metadata": {},
   "source": [
    "**Comentários/Conclusão**"
   ]
  },
  {
   "cell_type": "markdown",
   "metadata": {},
   "source": [
    "Para a análise do Gini coefficient, é importante salientar que, como se trata de uma medida para calcular a desigualdade, o menor valor é equivalente a uma menor desigualdade, ou seja, é algo positivo, diferente dos outros gráficos plotados. Desta forma, visualizando ambos, percebe-se que são assimétricos à direita, entretanto o segundo gráfico que apresenta o grupo dos não membros têm média e mediana maior. Logo os países da OCDE são mais avantajados neste tópico."
   ]
  },
  {
   "cell_type": "markdown",
   "metadata": {},
   "source": [
    "## Comparação - Life expectancy"
   ]
  },
  {
   "cell_type": "code",
   "execution_count": 44,
   "metadata": {},
   "outputs": [
    {
     "data": {
      "image/png": "[encoded data removed]",
      "text/plain": [
       "<Figure size 432x288 with 1 Axes>"
      ]
     },
     "metadata": {
      "needs_background": "light"
     },
     "output_type": "display_data"
    },
    {
     "data": {
      "image/png": "[encoded data removed]",
      "text/plain": [
       "<Figure size 432x288 with 1 Axes>"
      ]
     },
     "metadata": {
      "needs_background": "light"
     },
     "output_type": "display_data"
    }
   ],
   "source": [
    "def verticalline(plot, x, y, color, nome):\n",
    "    plot.axvline(x, color = color, linestyle = \"dashed\", linewidth = 3)\n",
    "    plot.text(x, y, nome + \": ≈\" + str(x)[:5], color = color)    \n",
    "    plot.grid()\n",
    "\n",
    "    \n",
    "verticalline(Comparacao.loc[Comparacao.OCDE==0].Life_expectancy.plot.hist(color='lightcoral', title='Life expectancy - OCDE'), Comparacao.loc[Comparacao.OCDE==0].Life_expectancy.mean(), 8 ,'r',\" Média\")\n",
    "verticaline(Comparacao.loc[Comparacao.OCDE==0].Life_expectancy.plot.hist(color='lightcoral', title='Life expectancy - OCDE'), Comparacao.loc[Comparacao.OCDE==0].Life_expectancy.median(), 4 ,'b',\" Mediana\")\n",
    "plt.show()\n",
    "\n",
    "verticalline(Comparacao.loc[Comparacao.OCDE==1].Life_expectancy.plot.hist(color = 'darkred', title='Life expectancy - outros'), Comparacao.loc[Comparacao.OCDE==1].Life_expectancy.mean(), 6 ,'r',\" Média\")\n",
    "verticaline(Comparacao.loc[Comparacao.OCDE==1].Life_expectancy.plot.hist(color = 'darkred', title='Life expectancy - outros'), Comparacao.loc[Comparacao.OCDE==1].Life_expectancy.median(), 4 ,'b',\" Mediana\")\n",
    "plt.show()\n"
   ]
  },
  {
   "cell_type": "markdown",
   "metadata": {},
   "source": [
    "**Comentários/Conclusão**"
   ]
  },
  {
   "cell_type": "markdown",
   "metadata": {},
   "source": [
    "Observando os gráficos, percebe-se que ambos são assimétricos à esquerda - Mediana maior que Média -, que é o melhor recomendado quando se trata de expectativa de vida. Entretando, ainda assim os países da OCDE apresentam Média e Mediana mais elevadas. A fim de analisar melhor a diferença entre ambos os grupos, foi feita uma comparação em tabela:"
   ]
  },
  {
   "cell_type": "markdown",
   "metadata": {},
   "source": [
    "## Comparação em tabela"
   ]
  },
  {
   "cell_type": "code",
   "execution_count": 45,
   "metadata": {},
   "outputs": [
    {
     "name": "stdout",
     "output_type": "stream",
     "text": [
      "Expectativa de vida dos países membros da OCDE:\n"
     ]
    },
    {
     "data": {
      "text/plain": [
       "[55, 65)     0\n",
       "[65, 75)     0\n",
       "[75, 85)    29\n",
       "Name: exp_vida, dtype: int64"
      ]
     },
     "execution_count": 45,
     "metadata": {},
     "output_type": "execute_result"
    }
   ],
   "source": [
    "print('Expectativa de vida dos países membros da OCDE:')\n",
    "\n",
    "faixa_vida = range(55,86,10)\n",
    "Comparacao['exp_vida'] = pd.cut(Comparacao.loc[Comparacao.OCDE==0].Life_expectancy, bins = faixa_vida, right = False)\n",
    "Comparacao.exp_vida.value_counts(sort= False)"
   ]
  },
  {
   "cell_type": "code",
   "execution_count": 46,
   "metadata": {},
   "outputs": [
    {
     "name": "stdout",
     "output_type": "stream",
     "text": [
      "Expectativa de vida dos países não membros da OCDE:\n"
     ]
    },
    {
     "data": {
      "text/plain": [
       "[55, 65)     4\n",
       "[65, 75)     9\n",
       "[75, 85)    16\n",
       "Name: exp_vida, dtype: int64"
      ]
     },
     "execution_count": 46,
     "metadata": {},
     "output_type": "execute_result"
    }
   ],
   "source": [
    "print('Expectativa de vida dos países não membros da OCDE:')\n",
    "\n",
    "faixa_vida = range(55,86,10)\n",
    "Comparacao['exp_vida'] = pd.cut(Comparacao.loc[Comparacao.OCDE==1].Life_expectancy, bins = faixa_vida, right = False)\n",
    "Comparacao.exp_vida.value_counts(sort= False)"
   ]
  },
  {
   "cell_type": "markdown",
   "metadata": {},
   "source": [
    "**Comentários/Conclusão**"
   ]
  },
  {
   "cell_type": "markdown",
   "metadata": {},
   "source": [
    "Assim como na análise de comparação em tabelas da taxa de emprego, esta também é composta por faixas que representam um intervalo - a primeira, por exemplo, é de 55 a 65 anos - como indicado no lado esquerdo e, o lado direito, representa o número de países que apresentam a expectativa de vida dentro deste intervalo.\n",
    "\n",
    "Ao realizar a comparação, é bem mais visível a diferença entre os grupos. Nos países da OCDE, todos os países se encontram na faixa dos 75 aos 85 anos. Já no grupo dos não membros é mais distribuído, sendo 4 países ainda componentes da faixa com menor expectativa de vida.\n",
    "\n",
    "Desta forma, neste tópico os países da OCDE realmente estão em vantagem."
   ]
  },
  {
   "cell_type": "markdown",
   "metadata": {},
   "source": [
    "## Análise Bidimensional -  PIB per capita e Expectativa de vida (OCDE)"
   ]
  },
  {
   "cell_type": "code",
   "execution_count": 47,
   "metadata": {},
   "outputs": [],
   "source": [
    "outros = ['Argentina', 'Singapore', 'Russia', 'Brazil', 'Iraq', 'Egypt', 'China', 'Peru', 'Philippines', 'South Africa', 'Venezuela', 'United Arab Emirates', 'Bolivia', 'Afghanistan', 'Croatia', 'Oman', 'Bahrain', 'Pakistan', 'Cuba', 'Kuwait', 'Qatar', 'Congo, Rep.', 'Ecuador', 'Guatemala', 'India', 'Indonesia', 'Nigeria', 'Colombia', 'Thailand']\n",
    "paises_OCDE = ['Austria', 'Belgium', 'Denmark', 'France', 'Greece', 'Iceland', 'Ireland', 'Italy', 'Luxembourg', 'Norway', 'Netherlands', 'Portugal', 'United Kingdom', 'United States', 'Japan', 'Turkey', 'Germany', 'Spain', 'Canada', 'Sweden', 'Switzerland', 'Finland', 'Australia', 'New Zealand', 'Mexico', 'Czech Republic', 'Hungary', 'Poland', 'South Korea']"
   ]
  },
  {
   "cell_type": "code",
   "execution_count": 48,
   "metadata": {},
   "outputs": [],
   "source": [
    "GDP_idx_T = GDP.set_index('GDP per capita')\n",
    "GDP_idx_T['OCDE']='NaN'\n",
    "GDP_idx_T.loc[outros, 'OCDE']=1\n",
    "GDP_idx_T.loc[paises_OCDE, 'OCDE']=0\n",
    "\n",
    "Life_idx_T = Life.set_index('country')\n",
    "Life_idx_T['OCDE']='NaN'\n",
    "Life_idx_T.loc[outros, 'OCDE']=1\n",
    "Life_idx_T.loc[paises_OCDE, 'OCDE']=0\n"
   ]
  },
  {
   "cell_type": "code",
   "execution_count": 49,
   "metadata": {},
   "outputs": [],
   "source": [
    "def reta(dados_x, dados_y, c):    \n",
    "    a = dados_y.cov(dados_x) / dados_x.var()\n",
    "    b = dados_y.mean() - a*dados_x.mean()\n",
    "\n",
    "    print('Ajuste linear entre X3 e X4:')\n",
    "    print('Coeficiente linear:', b)\n",
    "    print('Coeficiente angular:', a)\n",
    "    plt.scatter(dados_x, dados_y, c=c, alpha=0.8)\n",
    "    plt.title('Análise Bidimensional')\n",
    "    plt.xlabel('GDPcapita')\n",
    "    plt.ylabel('Expectativa de vida (em anos)')\n",
    "    plt.grid()\n",
    "\n",
    "    plt.plot((dados_x.min(), dados_x.max()), (a*dados_x.min()+b, a*dados_x.max()+b), color=c)\n",
    "\n",
    "    plt.tight_layout()"
   ]
  },
  {
   "cell_type": "code",
   "execution_count": 50,
   "metadata": {
    "scrolled": false
   },
   "outputs": [
    {
     "name": "stdout",
     "output_type": "stream",
     "text": [
      "Países pertencentes à OCDE\n",
      "Ajuste linear entre X3 e X4:\n",
      "Coeficiente linear: 69.28377911467791\n",
      "Coeficiente angular: 0.00020267421167740368\n"
     ]
    },
    {
     "data": {
      "image/png": "[encoded data removed]",
      "text/plain": [
       "<Figure size 432x288 with 1 Axes>"
      ]
     },
     "metadata": {
      "needs_background": "light"
     },
     "output_type": "display_data"
    }
   ],
   "source": [
    "print('Países pertencentes à OCDE')\n",
    "\n",
    "plt.scatter(GDP_idx_T.loc[GDP_idx_T.OCDE==0, 1985], Life_idx_T.loc[Life_idx_T.OCDE==0, 1985], c='r')\n",
    "reta(GDP_idx_T.loc[GDP_idx_T.OCDE==0, 1985], Life_idx_T.loc[Life_idx_T.OCDE==0, 1985], c='r')"
   ]
  },
  {
   "cell_type": "code",
   "execution_count": 51,
   "metadata": {},
   "outputs": [
    {
     "name": "stdout",
     "output_type": "stream",
     "text": [
      "Ajuste linear entre X3 e X4:\n",
      "Coeficiente linear: 74.86746125171052\n",
      "Coeficiente angular: 8.055386929926648e-05\n"
     ]
    },
    {
     "data": {
      "image/png": "[encoded data removed]",
      "text/plain": [
       "<Figure size 432x288 with 1 Axes>"
      ]
     },
     "metadata": {
      "needs_background": "light"
     },
     "output_type": "display_data"
    }
   ],
   "source": [
    "plt.scatter(GDP_idx_T.loc[GDP_idx_T.OCDE==0, 2000], Life_idx_T.loc[Life_idx_T.OCDE==0, 2000], c='r')\n",
    "reta(GDP_idx_T.loc[GDP_idx_T.OCDE==0, 2000], Life_idx_T.loc[Life_idx_T.OCDE==0, 2000], c='g')"
   ]
  },
  {
   "cell_type": "code",
   "execution_count": 52,
   "metadata": {},
   "outputs": [
    {
     "name": "stdout",
     "output_type": "stream",
     "text": [
      "Ajuste linear entre X3 e X4:\n",
      "Coeficiente linear: 78.29654975618806\n",
      "Coeficiente angular: 6.549801998038222e-05\n"
     ]
    },
    {
     "data": {
      "image/png": "[encoded data removed]",
      "text/plain": [
       "<Figure size 432x288 with 1 Axes>"
      ]
     },
     "metadata": {
      "needs_background": "light"
     },
     "output_type": "display_data"
    }
   ],
   "source": [
    "plt.scatter(GDP_idx_T.loc[GDP_idx_T.OCDE==0, 2015], Life_idx_T.loc[Life_idx_T.OCDE==0, 2015], c='r')\n",
    "reta(GDP_idx_T.loc[GDP_idx_T.OCDE==0, 2015], Life_idx_T.loc[Life_idx_T.OCDE==0, 2015], c='b')"
   ]
  },
  {
   "cell_type": "markdown",
   "metadata": {},
   "source": [
    "## Análise Bidimensional -  PIB per capita e Expectativa de vida (países não membros)"
   ]
  },
  {
   "cell_type": "code",
   "execution_count": 53,
   "metadata": {},
   "outputs": [
    {
     "name": "stdout",
     "output_type": "stream",
     "text": [
      "Países não pertencentes à OCDE\n",
      "Ajuste linear entre X3 e X4:\n",
      "Coeficiente linear: 63.07632111606967\n",
      "Coeficiente angular: 0.00012565910848280135\n"
     ]
    },
    {
     "data": {
      "image/png": "[encoded data removed]",
      "text/plain": [
       "<Figure size 432x288 with 1 Axes>"
      ]
     },
     "metadata": {
      "needs_background": "light"
     },
     "output_type": "display_data"
    }
   ],
   "source": [
    "print('Países não pertencentes à OCDE')\n",
    "\n",
    "plt.scatter(GDP_idx_T.loc[GDP_idx_T.OCDE==1, 1985], Life_idx_T.loc[Life_idx_T.OCDE==1, 1985], c='r')\n",
    "reta(GDP_idx_T.loc[GDP_idx_T.OCDE==1, 1985], Life_idx_T.loc[Life_idx_T.OCDE==1, 1985], c='r')"
   ]
  },
  {
   "cell_type": "code",
   "execution_count": 54,
   "metadata": {},
   "outputs": [
    {
     "name": "stdout",
     "output_type": "stream",
     "text": [
      "Ajuste linear entre X3 e X4:\n",
      "Coeficiente linear: 66.5414617342043\n",
      "Coeficiente angular: 0.00011418497246629216\n"
     ]
    },
    {
     "data": {
      "image/png": "[encoded data removed]",
      "text/plain": [
       "<Figure size 432x288 with 1 Axes>"
      ]
     },
     "metadata": {
      "needs_background": "light"
     },
     "output_type": "display_data"
    }
   ],
   "source": [
    "plt.scatter(GDP_idx_T.loc[GDP_idx_T.OCDE==1, 2000], Life_idx_T.loc[Life_idx_T.OCDE==1, 2000], c='r')\n",
    "reta(GDP_idx_T.loc[GDP_idx_T.OCDE==1, 2000], Life_idx_T.loc[Life_idx_T.OCDE==1, 2000], c='g')"
   ]
  },
  {
   "cell_type": "code",
   "execution_count": 55,
   "metadata": {},
   "outputs": [
    {
     "name": "stdout",
     "output_type": "stream",
     "text": [
      "Ajuste linear entre X3 e X4:\n",
      "Coeficiente linear: 70.4400600814641\n",
      "Coeficiente angular: 0.00011621137688832238\n"
     ]
    },
    {
     "data": {
      "image/png": "[encoded data removed]",
      "text/plain": [
       "<Figure size 432x288 with 1 Axes>"
      ]
     },
     "metadata": {
      "needs_background": "light"
     },
     "output_type": "display_data"
    }
   ],
   "source": [
    "plt.scatter(GDP_idx_T.loc[GDP_idx_T.OCDE==1, 2015], Life_idx_T.loc[Life_idx_T.OCDE==1, 2015], c='r')\n",
    "reta(GDP_idx_T.loc[GDP_idx_T.OCDE==1, 2015], Life_idx_T.loc[Life_idx_T.OCDE==1, 2015], c='b')"
   ]
  },
  {
   "cell_type": "markdown",
   "metadata": {},
   "source": [
    "## Correlação de GDPcapita e Expectativa de vida"
   ]
  },
  {
   "cell_type": "code",
   "execution_count": 56,
   "metadata": {},
   "outputs": [
    {
     "name": "stdout",
     "output_type": "stream",
     "text": [
      "Correlação dos países da OCDE:\n",
      "\n",
      "Em 1985: 0.6645045968399974\n",
      "Em 2000: 0.5257183939147378\n",
      "Em 2015: 0.48656436866584635\n"
     ]
    }
   ],
   "source": [
    "GDP_idx_T.rename(columns={1985:'L1985', 2000: 'L2000', 2015: 'L2015'}, inplace=True)\n",
    "Life_idx_T.rename(columns={1985:'L1985', 2000: 'L2000', 2015: 'L2015'}, inplace=True)\n",
    "\n",
    "print('Correlação dos países da OCDE:')\n",
    "print()\n",
    "print(\"Em 1985:\",GDP_idx_T.loc[GDP_idx_T.OCDE==0, 'L1985'].corr(Life_idx_T.loc[Life_idx_T.OCDE==0, 'L1985']))\n",
    "print(\"Em 2000:\",GDP_idx_T.loc[GDP_idx_T.OCDE==0, 'L2000'].corr(Life_idx_T.loc[Life_idx_T.OCDE==0, 'L2000']))\n",
    "print(\"Em 2015:\",GDP_idx_T.loc[GDP_idx_T.OCDE==0, 'L2015'].corr(Life_idx_T.loc[Life_idx_T.OCDE==0, 'L2015']))"
   ]
  },
  {
   "cell_type": "code",
   "execution_count": 57,
   "metadata": {},
   "outputs": [
    {
     "name": "stdout",
     "output_type": "stream",
     "text": [
      "Correlação dos países não membros:\n",
      "\n",
      "Em 1985: 0.4727912202833209\n",
      "Em 2000: 0.4593375186421128\n",
      "Em 2015: 0.5532681119708963\n"
     ]
    }
   ],
   "source": [
    "GDP_idx_T.rename(columns={1985:'L1985', 2000: 'L2000', 2015: 'L2015'}, inplace=True)\n",
    "Life_idx_T.rename(columns={1985:'L1985', 2000: 'L2000', 2015: 'L2015'}, inplace=True)\n",
    "\n",
    "print('Correlação dos países não membros:')\n",
    "print()\n",
    "print(\"Em 1985:\",GDP_idx_T.loc[GDP_idx_T.OCDE==1, 'L1985'].corr(Life_idx_T.loc[Life_idx_T.OCDE==1, 'L1985']))\n",
    "print(\"Em 2000:\",GDP_idx_T.loc[GDP_idx_T.OCDE==1, 'L2000'].corr(Life_idx_T.loc[Life_idx_T.OCDE==1, 'L2000']))\n",
    "print(\"Em 2015:\",GDP_idx_T.loc[GDP_idx_T.OCDE==1, 'L2015'].corr(Life_idx_T.loc[Life_idx_T.OCDE==1, 'L2015']))"
   ]
  },
  {
   "cell_type": "markdown",
   "metadata": {},
   "source": [
    "## Comentários e conclusão de ambas as análises bidimensionais"
   ]
  },
  {
   "cell_type": "markdown",
   "metadata": {},
   "source": [
    "Com o plote de todos os gráficos das análises bidimensionais e o valor das correlações, é possível explorados dois pontos importantes. Um deles é a comparação entre os dois grupos. Pode-se visualizar melhor o intervalo menor ocupado por cada país da OCDE, tanto no quesito de crescimento GDPcapita como de expectativa de vida. Logo, pode-se afirmar que ela cumpre relativamente com o crescimento em conjunto dos países membros, isto é, o apoio econômico, dado como um dos objetivos da OCDE.\n",
    "\n",
    "Como outro ponto importante, é evidente a correlação menor que permaneceu no grupo dos não membros, mesmo aumentando o GDPcapita, sugerindo que tais variáveis podem não estar diretamente relacionadas. Assim, consultando o estudo estatístico feito a partir dos dados oferecidos pela IndexMundi, é realmente possível tal fenômeno ocorrer, como pode ser visto no gráfico a seguir:"
   ]
  },
  {
   "cell_type": "code",
   "execution_count": 58,
   "metadata": {},
   "outputs": [
    {
     "data": {
      "image/png": "[encoded data removed]",
      "text/plain": [
       "<IPython.core.display.Image object>"
      ]
     },
     "execution_count": 58,
     "metadata": {},
     "output_type": "execute_result"
    }
   ],
   "source": [
    "from IPython.display import Image\n",
    "Image(filename=\"imagem-Index.png\")"
   ]
  },
  {
   "cell_type": "markdown",
   "metadata": {},
   "source": [
    "Segundo a pesquisa, essa relação não linear pode ocorrer em razão da baixa atividade econômica no mercado. Por exemplo: se há muita agricultura de subsistência, as pessoas continuariam trabalhando o suficiente para apenas satisfazer as necessidade e não realizar compras de bens supérfluos, desta forma, não havaria circulação de dinheiro, diminuindo GDPcapita, mas ainda haveria a otimização de serviços de saneamento ambiental, de alimentação, de saúde, os quais influenciam diretamente na expectativa de vida. Com isso, é possível que os gráficos de análise bidimensional ao longo dos anos dos países não membros se enquadram nesta lógica. \n",
    "\n",
    "Por outro lado, os dos países da OCDE apresentam maior correlação da GDPcapita e expectativa de vida. Portanto, pode-se concluir que dentro da organização não há grandes problemas de inatividade no mercado e provavelmente há mais condições da realização de compras além das consideradas necessárias, acompanhadas de maior expectativa de vida. Assim, a organização condiz com os objetivos econômicos determinados, confirmando a primeira hipótese sobre o crescimento de GDPcapita junto da expectativa de vida"
   ]
  },
  {
   "cell_type": "markdown",
   "metadata": {},
   "source": [
    "## Conclusão final"
   ]
  },
  {
   "cell_type": "markdown",
   "metadata": {},
   "source": [
    "Ao longo do processo de análise foi possível colocar em prática o mecanismo planejado e responder a pergunta elaborada e confirmar as hipóteses construídas. Desta forma, ao final da análise, foi possível verificar o efeito da existência da OCDE para os países, o qual foi concluído ser benéfico em relação aos objetivos econômicos que se apresentaram bem-sucedidos em geral - concordando com o afirmado na introdução -, comparado com os países não membros, sujeitos à maior diversidade de situações econômicas. Já em relação à taxa de empregados, os países da OCDE não são privilegiados, mas ainda assim não estão longe de alcançar a média definida pelos não membros."
   ]
  },
  {
   "cell_type": "markdown",
   "metadata": {},
   "source": [
    "## Base de dados usadas e apoio para credibilidade da análise"
   ]
  },
  {
   "cell_type": "markdown",
   "metadata": {},
   "source": [
    "http://www.oecd.org/about/\n",
    "\n",
    "http://www.oecd.org/about/members-and-partners/\n",
    "\n",
    "https://www.gapminder.org/data/\n",
    "\n",
    "http://www.statisticalconsultants.co.nz/blog/life-expectancy-at-birth-versus-gdp-per-capita-ppp.html\n",
    "\n",
    "https://www.indexmundi.com/g/correlation.aspx?v1=30&v2=67&y=2003&l=en"
   ]
  }
 ],
 "metadata": {
  "kernelspec": {
   "display_name": "Python 3",
   "language": "python",
   "name": "python3"
  },
  "language_info": {
   "codemirror_mode": {
    "name": "ipython",
    "version": 3
   },
   "file_extension": ".py",
   "mimetype": "text/x-python",
   "name": "python",
   "nbconvert_exporter": "python",
   "pygments_lexer": "ipython3",
   "version": "3.7.1"
  }
 },
 "nbformat": 4,
 "nbformat_minor": 2
}
